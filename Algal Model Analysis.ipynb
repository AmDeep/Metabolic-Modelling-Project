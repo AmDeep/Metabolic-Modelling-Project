{
 "cells": [
  {
   "cell_type": "code",
   "execution_count": 1,
   "metadata": {},
   "outputs": [],
   "source": [
    "import numpy as np\n",
    "import scipy as sp\n",
    "import pandas as pd\n",
    "import sympy as sy\n",
    "import webbrowser as wb"
   ]
  },
  {
   "cell_type": "code",
   "execution_count": 7,
   "metadata": {},
   "outputs": [
    {
     "name": "stdout",
     "output_type": "stream",
     "text": [
      "Requirement already satisfied: pip in /home/ec2-user/anaconda3/envs/pytorch_p36/lib/python3.6/site-packages (20.3)\n",
      "Collecting pip\n",
      "  Using cached pip-20.3.3-py2.py3-none-any.whl (1.5 MB)\n",
      "Installing collected packages: pip\n",
      "  Attempting uninstall: pip\n",
      "    Found existing installation: pip 20.3\n",
      "    Uninstalling pip-20.3:\n",
      "      Successfully uninstalled pip-20.3\n",
      "Successfully installed pip-20.3.3\n"
     ]
    }
   ],
   "source": [
    "!python -m pip install --upgrade pip"
   ]
  },
  {
   "cell_type": "code",
   "execution_count": 8,
   "metadata": {},
   "outputs": [
    {
     "name": "stdout",
     "output_type": "stream",
     "text": [
      "Collecting cobra\n",
      "  Using cached cobra-0.20.0-py2.py3-none-any.whl (2.4 MB)\n",
      "Collecting python-libsbml-experimental==5.18.3\n",
      "  Using cached python_libsbml_experimental-5.18.3-cp36-cp36m-manylinux1_x86_64.whl (7.6 MB)\n",
      "Collecting ruamel-yaml\n",
      "  Using cached ruamel.yaml-0.16.12-py2.py3-none-any.whl (111 kB)\n",
      "Collecting appdirs~=1.4\n",
      "  Using cached appdirs-1.4.4-py2.py3-none-any.whl (9.6 kB)\n",
      "Collecting diskcache~=5.0\n",
      "  Using cached diskcache-5.1.0-py3-none-any.whl (44 kB)\n",
      "Collecting httpx~=0.14\n",
      "  Using cached httpx-0.16.1-py3-none-any.whl (65 kB)\n",
      "Collecting httpcore==0.12.*\n",
      "  Using cached httpcore-0.12.2-py3-none-any.whl (54 kB)\n",
      "Collecting h11==0.*\n",
      "  Using cached h11-0.11.0-py2.py3-none-any.whl (54 kB)\n",
      "Collecting sniffio\n",
      "  Using cached sniffio-1.2.0-py3-none-any.whl (10 kB)\n",
      "Collecting contextvars>=2.1\n",
      "  Using cached contextvars-2.4-py3-none-any.whl\n",
      "Collecting immutables>=0.9\n",
      "  Using cached immutables-0.14-cp36-cp36m-manylinux1_x86_64.whl (98 kB)\n",
      "Collecting numpy~=1.13\n",
      "  Using cached numpy-1.19.4-cp36-cp36m-manylinux2010_x86_64.whl (14.5 MB)\n",
      "Collecting optlang<1.4.6\n",
      "  Using cached optlang-1.4.4-py2.py3-none-any.whl (125 kB)\n",
      "Collecting pandas~=1.0\n",
      "  Using cached pandas-1.1.5-cp36-cp36m-manylinux1_x86_64.whl (9.5 MB)\n",
      "Collecting pydantic~=1.6\n",
      "  Using cached pydantic-1.7.3-cp36-cp36m-manylinux2014_x86_64.whl (9.2 MB)\n",
      "Collecting dataclasses>=0.6\n",
      "  Using cached dataclasses-0.8-py3-none-any.whl (19 kB)\n",
      "Collecting python-dateutil>=2.7.3\n",
      "  Using cached python_dateutil-2.8.1-py2.py3-none-any.whl (227 kB)\n",
      "Collecting pytz>=2017.2\n",
      "  Using cached pytz-2020.4-py2.py3-none-any.whl (509 kB)\n",
      "Collecting rfc3986[idna2008]<2,>=1.3\n",
      "  Using cached rfc3986-1.4.0-py2.py3-none-any.whl (31 kB)\n",
      "Collecting rich~=6.0\n",
      "  Using cached rich-6.2.0-py3-none-any.whl (150 kB)\n",
      "Collecting colorama<0.5.0,>=0.4.0\n",
      "  Using cached colorama-0.4.4-py2.py3-none-any.whl (16 kB)\n",
      "Collecting commonmark<0.10.0,>=0.9.0\n",
      "  Using cached commonmark-0.9.1-py2.py3-none-any.whl (51 kB)\n",
      "Collecting dataclasses>=0.6\n",
      "  Using cached dataclasses-0.7-py3-none-any.whl (18 kB)\n",
      "Collecting pygments<3.0.0,>=2.6.0\n",
      "  Using cached Pygments-2.7.3-py3-none-any.whl (950 kB)\n",
      "Collecting ruamel.yaml.clib>=0.1.2\n",
      "  Using cached ruamel.yaml.clib-0.2.2-cp36-cp36m-manylinux1_x86_64.whl (549 kB)\n",
      "Collecting six\n",
      "  Using cached six-1.15.0-py2.py3-none-any.whl (10 kB)\n",
      "Collecting swiglpk\n",
      "  Using cached swiglpk-4.65.1-cp36-cp36m-manylinux1_x86_64.whl (627 kB)\n",
      "Collecting sympy>=1.0.0\n",
      "  Using cached sympy-1.7.1-py3-none-any.whl (5.9 MB)\n",
      "Collecting mpmath>=0.19\n",
      "  Using cached mpmath-1.1.0-py3-none-any.whl\n",
      "Collecting typing-extensions<4.0.0,>=3.7.4\n",
      "  Using cached typing_extensions-3.7.4.3-py3-none-any.whl (22 kB)\n",
      "Collecting certifi\n",
      "  Using cached certifi-2020.12.5-py2.py3-none-any.whl (147 kB)\n",
      "Collecting depinfo\n",
      "  Using cached depinfo-1.6.0-py2.py3-none-any.whl (8.6 kB)\n",
      "Collecting future\n",
      "  Using cached future-0.18.2-py3-none-any.whl\n",
      "Collecting idna\n",
      "  Using cached idna-2.10-py2.py3-none-any.whl (58 kB)\n",
      "Collecting importlib-metadata\n",
      "  Using cached importlib_metadata-3.3.0-py3-none-any.whl (10 kB)\n",
      "Collecting zipp>=0.5\n",
      "  Using cached zipp-3.4.0-py3-none-any.whl (5.2 kB)\n",
      "Collecting importlib-resources\n",
      "  Using cached importlib_resources-3.3.0-py2.py3-none-any.whl (26 kB)\n",
      "Installing collected packages: immutables, contextvars, zipp, typing-extensions, sniffio, six, rfc3986, mpmath, idna, h11, sympy, swiglpk, ruamel.yaml.clib, pytz, python-dateutil, pygments, numpy, importlib-metadata, httpcore, dataclasses, commonmark, colorama, certifi, ruamel-yaml, rich, python-libsbml-experimental, pydantic, pandas, optlang, importlib-resources, httpx, future, diskcache, depinfo, appdirs, cobra\n",
      "\u001b[31mERROR: pip's dependency resolver does not currently take into account all the packages that are installed. This behaviour is the source of the following dependency conflicts.\n",
      "spyder 4.0.1 requires pyqt5<5.13; python_version >= \"3\", which is not installed.\n",
      "spyder 4.0.1 requires pyqtwebengine<5.13; python_version >= \"3\", which is not installed.\n",
      "pytest-astropy 0.8.0 requires pytest-cov>=2.0, which is not installed.\n",
      "pytest-astropy 0.8.0 requires pytest-filter-subpackage>=0.1, which is not installed.\n",
      "fastai 1.0.61 requires nvidia-ml-py3, which is not installed.\n",
      "spyder 4.0.1 requires jedi==0.14.1, but you have jedi 0.17.2 which is incompatible.\n",
      "escher 1.7.3 requires pytest<5,>=4.0.1, but you have pytest 5.3.5 which is incompatible.\n",
      "cameo 0.13.0 requires optlang==1.4.2, but you have optlang 1.4.4 which is incompatible.\n",
      "awscli 1.18.197 requires colorama<0.4.4,>=0.2.5; python_version != \"3.4\", but you have colorama 0.4.4 which is incompatible.\n",
      "astroid 2.4.2 requires lazy-object-proxy==1.4.*, but you have lazy-object-proxy 1.5.2 which is incompatible.\u001b[0m\n",
      "Successfully installed appdirs-1.4.4 certifi-2020.12.5 cobra-0.20.0 colorama-0.4.4 commonmark-0.9.1 contextvars-2.4 dataclasses-0.7 depinfo-1.6.0 diskcache-5.1.0 future-0.18.2 h11-0.11.0 httpcore-0.12.2 httpx-0.16.1 idna-2.10 immutables-0.14 importlib-metadata-3.3.0 importlib-resources-3.3.0 mpmath-1.1.0 numpy-1.19.4 optlang-1.4.4 pandas-1.1.5 pydantic-1.7.3 pygments-2.7.3 python-dateutil-2.8.1 python-libsbml-experimental-5.18.3 pytz-2020.4 rfc3986-1.4.0 rich-6.2.0 ruamel-yaml-0.15.87 ruamel.yaml.clib-0.2.2 six-1.15.0 sniffio-1.2.0 swiglpk-4.65.1 sympy-1.7.1 typing-extensions-3.7.4.3 zipp-3.4.0\n"
     ]
    }
   ],
   "source": [
    "!pip install cobra --ignore-installed ruamel-yaml"
   ]
  },
  {
   "cell_type": "code",
   "execution_count": 9,
   "metadata": {},
   "outputs": [
    {
     "name": "stdout",
     "output_type": "stream",
     "text": [
      "Collecting cameo\n",
      "  Using cached cameo-0.13.0-py2.py3-none-any.whl (13.8 MB)\n",
      "Collecting gnomic==1.0.1\n",
      "  Using cached gnomic-1.0.1-py3-none-any.whl\n",
      "Collecting grako==3.18.1\n",
      "  Using cached grako-3.18.1-py2.py3-none-any.whl (76 kB)\n",
      "Collecting optlang==1.4.2\n",
      "  Using cached optlang-1.4.2-py2.py3-none-any.whl (121 kB)\n",
      "Collecting blessings>=1.5.1\n",
      "  Using cached blessings-1.7-py3-none-any.whl (18 kB)\n",
      "Collecting click>=6.7\n",
      "  Using cached click-7.1.2-py2.py3-none-any.whl (82 kB)\n",
      "Collecting cobra>=0.11.1\n",
      "  Using cached cobra-0.20.0-py2.py3-none-any.whl (2.4 MB)\n",
      "Collecting python-libsbml-experimental==5.18.3\n",
      "  Using cached python_libsbml_experimental-5.18.3-cp36-cp36m-manylinux1_x86_64.whl (7.6 MB)\n",
      "Collecting ruamel-yaml\n",
      "  Using cached ruamel.yaml-0.16.12-py2.py3-none-any.whl (111 kB)\n",
      "Collecting appdirs~=1.4\n",
      "  Using cached appdirs-1.4.4-py2.py3-none-any.whl (9.6 kB)\n",
      "Collecting diskcache~=5.0\n",
      "  Using cached diskcache-5.1.0-py3-none-any.whl (44 kB)\n",
      "Collecting escher>=1.1.2\n",
      "  Using cached Escher-1.7.3-py3-none-any.whl (1.2 MB)\n",
      "Collecting future>=0.15.2\n",
      "  Using cached future-0.18.2-py3-none-any.whl\n",
      "Collecting httpx~=0.14\n",
      "  Using cached httpx-0.16.1-py3-none-any.whl (65 kB)\n",
      "Collecting httpcore==0.12.*\n",
      "  Using cached httpcore-0.12.2-py3-none-any.whl (54 kB)\n",
      "Collecting h11==0.*\n",
      "  Using cached h11-0.11.0-py2.py3-none-any.whl (54 kB)\n",
      "Collecting sniffio\n",
      "  Using cached sniffio-1.2.0-py3-none-any.whl (10 kB)\n",
      "Collecting contextvars>=2.1\n",
      "  Using cached contextvars-2.4-py3-none-any.whl\n",
      "Collecting immutables>=0.9\n",
      "  Using cached immutables-0.14-cp36-cp36m-manylinux1_x86_64.whl (98 kB)\n",
      "Collecting inspyred>=1.0\n",
      "  Using cached inspyred-1.0.1-py2.py3-none-any.whl (88 kB)\n",
      "Collecting IProgress>=0.4\n",
      "  Using cached IProgress-0.4-py3-none-any.whl (11 kB)\n",
      "Collecting ipywidgets<8,>=7.4.0\n",
      "  Using cached ipywidgets-7.5.1-py2.py3-none-any.whl (121 kB)\n",
      "Collecting ipykernel>=4.5.1\n",
      "  Using cached ipykernel-5.4.2-py3-none-any.whl (119 kB)\n",
      "Collecting ipython>=4.0.0\n",
      "  Using cached ipython-7.16.1-py3-none-any.whl (785 kB)\n",
      "Collecting jedi>=0.10\n",
      "  Using cached jedi-0.17.2-py2.py3-none-any.whl (1.4 MB)\n",
      "Collecting Jinja2<3,>=2.7.3\n",
      "  Using cached Jinja2-2.11.2-py2.py3-none-any.whl (125 kB)\n",
      "Collecting jsonschema<4,>=3.0.1\n",
      "  Using cached jsonschema-3.2.0-py2.py3-none-any.whl (56 kB)\n",
      "Collecting attrs>=17.4.0\n",
      "  Using cached attrs-20.3.0-py2.py3-none-any.whl (49 kB)\n",
      "Collecting lazy-object-proxy>=1.2.0\n",
      "  Using cached lazy_object_proxy-1.5.2-cp36-cp36m-manylinux1_x86_64.whl (51 kB)\n",
      "Collecting MarkupSafe>=0.23\n",
      "  Using cached MarkupSafe-1.1.1-cp36-cp36m-manylinux1_x86_64.whl (27 kB)\n",
      "Collecting nbformat>=4.2.0\n",
      "  Using cached nbformat-5.0.8-py3-none-any.whl (172 kB)\n",
      "Collecting networkx>=2.4\n",
      "  Using cached networkx-2.5-py3-none-any.whl (1.6 MB)\n",
      "Collecting decorator\n",
      "  Using cached decorator-4.4.2-py2.py3-none-any.whl (9.2 kB)\n",
      "Collecting numexpr>=2.4\n",
      "  Using cached numexpr-2.7.1-cp36-cp36m-manylinux1_x86_64.whl (162 kB)\n",
      "Collecting numpy>=1.9.1\n",
      "  Using cached numpy-1.19.4-cp36-cp36m-manylinux2010_x86_64.whl (14.5 MB)\n",
      "Collecting openpyxl>=2.4.5\n",
      "  Using cached openpyxl-3.0.5-py2.py3-none-any.whl (242 kB)\n",
      "Collecting ordered-set>=1.2\n",
      "  Using cached ordered_set-4.0.2-py2.py3-none-any.whl\n",
      "Collecting palettable>=2.1.1\n",
      "  Using cached palettable-3.3.0-py2.py3-none-any.whl (111 kB)\n",
      "Collecting pandas>=1.1.3\n",
      "  Using cached pandas-1.1.5-cp36-cp36m-manylinux1_x86_64.whl (9.5 MB)\n",
      "Collecting parso<0.8.0,>=0.7.0\n",
      "  Using cached parso-0.7.1-py2.py3-none-any.whl (109 kB)\n",
      "Collecting prompt-toolkit!=3.0.0,!=3.0.1,<3.1.0,>=2.0.0\n",
      "  Using cached prompt_toolkit-3.0.8-py3-none-any.whl (355 kB)\n",
      "Collecting pydantic~=1.6\n",
      "  Using cached pydantic-1.7.3-cp36-cp36m-manylinux2014_x86_64.whl (9.2 MB)\n",
      "Collecting dataclasses>=0.6\n",
      "  Using cached dataclasses-0.8-py3-none-any.whl (19 kB)\n",
      "Collecting pyrsistent>=0.14.0\n",
      "  Using cached pyrsistent-0.17.3-cp36-cp36m-linux_x86_64.whl\n",
      "Collecting pytest<5,>=4.0.1\n",
      "  Using cached pytest-4.6.11-py2.py3-none-any.whl (231 kB)\n",
      "Collecting atomicwrites>=1.0\n",
      "  Using cached atomicwrites-1.4.0-py2.py3-none-any.whl (6.8 kB)\n",
      "Collecting importlib-metadata\n",
      "  Using cached importlib_metadata-3.3.0-py3-none-any.whl (10 kB)\n",
      "Collecting more-itertools>=4.0.0\n",
      "  Using cached more_itertools-8.6.0-py3-none-any.whl (45 kB)\n",
      "Collecting pluggy<1.0,>=0.12\n",
      "  Using cached pluggy-0.13.1-py2.py3-none-any.whl (18 kB)\n",
      "Collecting py>=1.5.0\n",
      "  Using cached py-1.10.0-py2.py3-none-any.whl (97 kB)\n",
      "Collecting python-dateutil>=2.7.3\n",
      "  Using cached python_dateutil-2.8.1-py2.py3-none-any.whl (227 kB)\n",
      "Collecting pytz>=2017.2\n",
      "  Using cached pytz-2020.4-py2.py3-none-any.whl (509 kB)\n",
      "Collecting requests>=2.10.0\n",
      "  Using cached requests-2.25.1-py2.py3-none-any.whl (61 kB)\n",
      "Collecting certifi\n",
      "  Using cached certifi-2020.12.5-py2.py3-none-any.whl (147 kB)\n",
      "Collecting chardet<5,>=3.0.2\n",
      "  Using cached chardet-4.0.0-py2.py3-none-any.whl (178 kB)\n",
      "Collecting idna<3,>=2.5\n",
      "  Using cached idna-2.10-py2.py3-none-any.whl (58 kB)\n",
      "Collecting rfc3986[idna2008]<2,>=1.3\n",
      "  Using cached rfc3986-1.4.0-py2.py3-none-any.whl (31 kB)\n",
      "Collecting rich~=6.0\n",
      "  Using cached rich-6.2.0-py3-none-any.whl (150 kB)\n",
      "Collecting colorama<0.5.0,>=0.4.0\n",
      "  Using cached colorama-0.4.4-py2.py3-none-any.whl (16 kB)\n",
      "Collecting commonmark<0.10.0,>=0.9.0\n",
      "  Using cached commonmark-0.9.1-py2.py3-none-any.whl (51 kB)\n",
      "Collecting dataclasses>=0.6\n",
      "  Using cached dataclasses-0.7-py3-none-any.whl (18 kB)\n",
      "Collecting pygments\n",
      "  Using cached Pygments-2.7.3-py3-none-any.whl (950 kB)\n",
      "Collecting ruamel.yaml.clib>=0.1.2\n",
      "  Using cached ruamel.yaml.clib-0.2.2-cp36-cp36m-manylinux1_x86_64.whl (549 kB)\n",
      "Collecting scipy>=0.14.0\n",
      "  Using cached scipy-1.5.4-cp36-cp36m-manylinux1_x86_64.whl (25.9 MB)\n",
      "Collecting six>=1.8.0\n",
      "  Using cached six-1.15.0-py2.py3-none-any.whl (10 kB)\n",
      "Collecting swiglpk>=1.4.3\n",
      "  Using cached swiglpk-4.65.1-cp36-cp36m-manylinux1_x86_64.whl (627 kB)\n",
      "Collecting sympy>=1.0.0\n",
      "  Using cached sympy-1.7.1-py3-none-any.whl (5.9 MB)\n",
      "Collecting mpmath>=0.19\n",
      "  Using cached mpmath-1.1.0-py3-none-any.whl\n",
      "Collecting tornado>=4.2\n",
      "  Using cached tornado-6.1-cp36-cp36m-manylinux2010_x86_64.whl (427 kB)\n",
      "Collecting traitlets>=4.3.1\n",
      "  Using cached traitlets-4.3.3-py2.py3-none-any.whl (75 kB)\n",
      "Collecting typing-extensions>=3.6.4\n",
      "  Using cached typing_extensions-3.7.4.3-py3-none-any.whl (22 kB)\n",
      "Collecting urllib3<1.27,>=1.21.1\n",
      "  Using cached urllib3-1.26.2-py2.py3-none-any.whl (136 kB)\n",
      "Collecting widgetsnbextension~=3.5.0\n",
      "  Using cached widgetsnbextension-3.5.1-py2.py3-none-any.whl (2.2 MB)\n",
      "Collecting notebook>=4.4.1\n",
      "  Using cached notebook-6.1.5-py3-none-any.whl (9.5 MB)\n",
      "Collecting jupyter-client\n",
      "  Using cached jupyter_client-6.1.7-py3-none-any.whl (108 kB)\n",
      "Collecting jupyter-core\n",
      "  Using cached jupyter_core-4.7.0-py3-none-any.whl (82 kB)\n",
      "Collecting pyzmq>=17\n",
      "  Using cached pyzmq-20.0.0-cp36-cp36m-manylinux1_x86_64.whl (1.1 MB)\n",
      "Collecting terminado>=0.8.3\n",
      "  Using cached terminado-0.9.1-py3-none-any.whl (13 kB)\n",
      "Collecting zipp>=0.5\n",
      "  Using cached zipp-3.4.0-py3-none-any.whl (5.2 kB)\n",
      "Collecting argon2-cffi\n",
      "  Using cached argon2_cffi-20.1.0-cp35-abi3-manylinux1_x86_64.whl (97 kB)\n",
      "Collecting cffi>=1.0.0\n",
      "  Using cached cffi-1.14.4-cp36-cp36m-manylinux1_x86_64.whl (401 kB)\n",
      "Collecting backcall\n",
      "  Using cached backcall-0.2.0-py2.py3-none-any.whl (11 kB)\n",
      "Collecting depinfo\n",
      "  Using cached depinfo-1.6.0-py2.py3-none-any.whl (8.6 kB)\n",
      "Collecting et-xmlfile\n",
      "  Using cached et_xmlfile-1.0.1-py3-none-any.whl\n",
      "Collecting importlib-resources\n",
      "  Using cached importlib_resources-3.3.0-py2.py3-none-any.whl (26 kB)\n",
      "Collecting ipython-genutils\n",
      "  Using cached ipython_genutils-0.2.0-py2.py3-none-any.whl (26 kB)\n",
      "Collecting jdcal\n",
      "  Using cached jdcal-1.4.1-py2.py3-none-any.whl (9.5 kB)\n",
      "Collecting nbconvert\n",
      "  Using cached nbconvert-6.0.7-py3-none-any.whl (552 kB)\n",
      "Collecting entrypoints>=0.2.2\n",
      "  Using cached entrypoints-0.3-py2.py3-none-any.whl (11 kB)\n",
      "Collecting mistune<2,>=0.8.1\n",
      "  Using cached mistune-0.8.4-py2.py3-none-any.whl (16 kB)\n",
      "Collecting nbclient<0.6.0,>=0.5.0\n",
      "  Using cached nbclient-0.5.1-py3-none-any.whl (65 kB)\n",
      "Collecting pandocfilters>=1.4.1\n",
      "  Using cached pandocfilters-1.4.3-py3-none-any.whl\n",
      "Collecting async-generator\n",
      "  Using cached async_generator-1.10-py3-none-any.whl (18 kB)\n",
      "Collecting bleach\n",
      "  Using cached bleach-3.2.1-py2.py3-none-any.whl (145 kB)\n",
      "Collecting defusedxml\n",
      "  Using cached defusedxml-0.6.0-py2.py3-none-any.whl (23 kB)\n",
      "Collecting jupyterlab-pygments\n",
      "  Using cached jupyterlab_pygments-0.1.2-py2.py3-none-any.whl (4.6 kB)\n",
      "Collecting nest-asyncio\n",
      "  Using cached nest_asyncio-1.4.3-py3-none-any.whl (5.3 kB)\n",
      "Collecting packaging\n",
      "  Using cached packaging-20.8-py2.py3-none-any.whl (39 kB)\n",
      "Collecting pyparsing>=2.0.2\n",
      "  Using cached pyparsing-2.4.7-py2.py3-none-any.whl (67 kB)\n",
      "Collecting pexpect\n",
      "  Using cached pexpect-4.8.0-py2.py3-none-any.whl (59 kB)\n",
      "Collecting ptyprocess\n",
      "  Using cached ptyprocess-0.6.0-py2.py3-none-any.whl (39 kB)\n",
      "Collecting pickleshare\n",
      "  Using cached pickleshare-0.7.5-py2.py3-none-any.whl (6.9 kB)\n",
      "Collecting prometheus-client\n",
      "  Using cached prometheus_client-0.9.0-py2.py3-none-any.whl (53 kB)\n",
      "Collecting pycparser\n",
      "  Using cached pycparser-2.20-py2.py3-none-any.whl (112 kB)\n",
      "Collecting Send2Trash\n",
      "  Using cached Send2Trash-1.5.0-py3-none-any.whl (12 kB)\n",
      "Collecting testpath\n",
      "  Using cached testpath-0.4.4-py2.py3-none-any.whl (163 kB)\n",
      "Collecting wcwidth\n",
      "  Using cached wcwidth-0.2.5-py2.py3-none-any.whl (30 kB)\n",
      "Collecting webencodings\n",
      "  Using cached webencodings-0.5.1-py2.py3-none-any.whl (11 kB)\n",
      "Collecting setuptools>=18.5\n",
      "  Using cached setuptools-51.0.0-py3-none-any.whl (785 kB)\n",
      "Installing collected packages: zipp, typing-extensions, six, ipython-genutils, decorator, traitlets, setuptools, pyrsistent, importlib-metadata, attrs, wcwidth, tornado, pyzmq, python-dateutil, pyparsing, ptyprocess, parso, jupyter-core, jsonschema, webencodings, pygments, pycparser, prompt-toolkit, pickleshare, pexpect, packaging, nest-asyncio, nbformat, MarkupSafe, jupyter-client, jedi, immutables, backcall, async-generator, testpath, pandocfilters, nbclient, mistune, jupyterlab-pygments, Jinja2, ipython, entrypoints, defusedxml, contextvars, cffi, bleach, terminado, sniffio, Send2Trash, rfc3986, prometheus-client, nbconvert, mpmath, ipykernel, idna, h11, argon2-cffi, sympy, swiglpk, ruamel.yaml.clib, pytz, numpy, notebook, httpcore, dataclasses, commonmark, colorama, certifi, widgetsnbextension, ruamel-yaml, rich, python-libsbml-experimental, pydantic, py, pluggy, pandas, optlang, more-itertools, importlib-resources, httpx, future, diskcache, depinfo, atomicwrites, appdirs, urllib3, pytest, jdcal, ipywidgets, grako, et-xmlfile, cobra, chardet, scipy, requests, palettable, ordered-set, openpyxl, numexpr, networkx, lazy-object-proxy, IProgress, inspyred, gnomic, escher, click, blessings, cameo\n",
      "\u001b[31mERROR: pip's dependency resolver does not currently take into account all the packages that are installed. This behaviour is the source of the following dependency conflicts.\n",
      "spyder 4.0.1 requires pyqt5<5.13; python_version >= \"3\", which is not installed.\n",
      "spyder 4.0.1 requires pyqtwebengine<5.13; python_version >= \"3\", which is not installed.\n",
      "pytest-astropy 0.8.0 requires pytest-cov>=2.0, which is not installed.\n",
      "pytest-astropy 0.8.0 requires pytest-filter-subpackage>=0.1, which is not installed.\n",
      "fastai 1.0.61 requires nvidia-ml-py3, which is not installed.\n",
      "spyder 4.0.1 requires jedi==0.14.1, but you have jedi 0.17.2 which is incompatible.\n",
      "python-language-server 0.31.7 requires jedi<0.16,>=0.14.1, but you have jedi 0.17.2 which is incompatible.\n",
      "awscli 1.18.197 requires colorama<0.4.4,>=0.2.5; python_version != \"3.4\", but you have colorama 0.4.4 which is incompatible.\n",
      "astroid 2.4.2 requires lazy-object-proxy==1.4.*, but you have lazy-object-proxy 1.5.2 which is incompatible.\u001b[0m\n",
      "Successfully installed IProgress-0.4 Jinja2-2.11.2 MarkupSafe-1.1.1 Send2Trash-1.5.0 appdirs-1.4.4 argon2-cffi-20.1.0 async-generator-1.10 atomicwrites-1.4.0 attrs-20.3.0 backcall-0.2.0 bleach-3.2.1 blessings-1.7 cameo-0.13.0 certifi-2020.12.5 cffi-1.14.4 chardet-4.0.0 click-7.1.2 cobra-0.20.0 colorama-0.4.4 commonmark-0.9.1 contextvars-2.4 dataclasses-0.7 decorator-4.4.2 defusedxml-0.6.0 depinfo-1.6.0 diskcache-5.1.0 entrypoints-0.3 escher-1.7.3 et-xmlfile-1.0.1 future-0.18.2 gnomic-1.0.1 grako-3.18.1 h11-0.11.0 httpcore-0.12.2 httpx-0.16.1 idna-2.10 immutables-0.14 importlib-metadata-3.3.0 importlib-resources-3.3.0 inspyred-1.0.1 ipykernel-5.4.2 ipython-7.16.1 ipython-genutils-0.2.0 ipywidgets-7.5.1 jdcal-1.4.1 jedi-0.17.2 jsonschema-3.2.0 jupyter-client-6.1.7 jupyter-core-4.7.0 jupyterlab-pygments-0.1.2 lazy-object-proxy-1.5.2 mistune-0.8.4 more-itertools-8.6.0 mpmath-1.1.0 nbclient-0.5.1 nbconvert-6.0.7 nbformat-5.0.8 nest-asyncio-1.4.3 networkx-2.5 notebook-6.1.5 numexpr-2.7.1 numpy-1.19.4 openpyxl-3.0.5 optlang-1.4.4 ordered-set-4.0.2 packaging-20.8 palettable-3.3.0 pandas-1.1.5 pandocfilters-1.4.3 parso-0.7.1 pexpect-4.8.0 pickleshare-0.7.5 pluggy-0.13.1 prometheus-client-0.9.0 prompt-toolkit-3.0.8 ptyprocess-0.6.0 py-1.10.0 pycparser-2.20 pydantic-1.7.3 pygments-2.7.3 pyparsing-2.4.7 pyrsistent-0.17.3 pytest-5.3.5 python-dateutil-2.8.1 python-libsbml-experimental-5.18.3 pytz-2020.4 pyzmq-20.0.0 requests-2.25.1 rfc3986-1.4.0 rich-6.2.0 ruamel-yaml-0.15.87 ruamel.yaml.clib-0.2.2 scipy-1.5.4 setuptools-51.0.0 six-1.15.0 sniffio-1.2.0 swiglpk-4.65.1 sympy-1.7.1 terminado-0.9.1 testpath-0.4.4 tornado-6.1 traitlets-4.3.3 typing-extensions-3.7.4.3 urllib3-1.26.2 wcwidth-0.2.5 webencodings-0.5.1 widgetsnbextension-3.5.1 zipp-3.4.0\n"
     ]
    }
   ],
   "source": [
    "!pip install cameo --ignore-installed ruamel-yaml"
   ]
  },
  {
   "cell_type": "code",
   "execution_count": 6,
   "metadata": {},
   "outputs": [
    {
     "name": "stdout",
     "output_type": "stream",
     "text": [
      "\u001b[31mERROR: Could not find a version that satisfies the requirement python==3.8.5\u001b[0m\n",
      "\u001b[31mERROR: No matching distribution found for python==3.8.5\u001b[0m\n",
      "\u001b[33mWARNING: You are using pip version 20.3; however, version 20.3.3 is available.\n",
      "You should consider upgrading via the '/home/ec2-user/anaconda3/envs/pytorch_p36/bin/python -m pip install --upgrade pip' command.\u001b[0m\n"
     ]
    }
   ],
   "source": [
    "!pip install python==3.8.5\n"
   ]
  },
  {
   "cell_type": "code",
   "execution_count": 49,
   "metadata": {},
   "outputs": [],
   "source": [
    "from cameo import load_model\n",
    "\n",
    "# Model for Chlorella variabilis\n",
    "model1 = load_model('Chlorella_v.xml')\n",
    "\n",
    "# Model for Chlamydomonas reinhardtii\n",
    "model2 = load_model('CR_GAPFILLED.xml')\n",
    "\n",
    "# Model for Chlamydomonas reinhardtii\n",
    "model3 = load_model('DS_GAPFILLED.xml')\n",
    "\n",
    "#Model for Dunaliella salina\n",
    "model4 = load_model('FA_Gapfilled.xml')\n",
    "\n",
    "#Model for Shewanella algae\n",
    "model5 = load_model('SA_Gapfilled.xml')\n",
    "\n",
    "#Model for Spirulina major PCC 6313\n",
    "model6 = load_model('SP_Gapfilled.xml')"
   ]
  },
  {
   "cell_type": "code",
   "execution_count": 50,
   "metadata": {},
   "outputs": [
    {
     "data": {
      "text/html": [
       "\n",
       "        <table>\n",
       "            <tr>\n",
       "                <td><strong>Name</strong></td>\n",
       "                <td>Chlorella_v</td>\n",
       "            </tr><tr>\n",
       "                <td><strong>Memory address</strong></td>\n",
       "                <td>0x07f33a17b2a58</td>\n",
       "            </tr><tr>\n",
       "                <td><strong>Number of metabolites</strong></td>\n",
       "                <td>1137</td>\n",
       "            </tr><tr>\n",
       "                <td><strong>Number of reactions</strong></td>\n",
       "                <td>1085</td>\n",
       "            </tr><tr>\n",
       "                <td><strong>Number of groups</strong></td>\n",
       "                <td>0</td>\n",
       "            </tr><tr>\n",
       "                <td><strong>Objective expression</strong></td>\n",
       "                <td>1.0*bio1_biomass - 1.0*bio1_biomass_reverse_6e711</td>\n",
       "            </tr><tr>\n",
       "                <td><strong>Compartments</strong></td>\n",
       "                <td>c0, d0, g0, v0, w0, x0, m0, n0, r0, e0, j0</td>\n",
       "            </tr>\n",
       "          </table>"
      ],
      "text/plain": [
       "<Model Chlorella_v at 0x7f33a17b2a58>"
      ]
     },
     "execution_count": 50,
     "metadata": {},
     "output_type": "execute_result"
    }
   ],
   "source": [
    "model1\n"
   ]
  },
  {
   "cell_type": "code",
   "execution_count": 51,
   "metadata": {},
   "outputs": [
    {
     "data": {
      "text/html": [
       "\n",
       "        <table>\n",
       "            <tr>\n",
       "                <td><strong>Name</strong></td>\n",
       "                <td>CR_GAPFILLED</td>\n",
       "            </tr><tr>\n",
       "                <td><strong>Memory address</strong></td>\n",
       "                <td>0x07f33a17b2470</td>\n",
       "            </tr><tr>\n",
       "                <td><strong>Number of metabolites</strong></td>\n",
       "                <td>1137</td>\n",
       "            </tr><tr>\n",
       "                <td><strong>Number of reactions</strong></td>\n",
       "                <td>1085</td>\n",
       "            </tr><tr>\n",
       "                <td><strong>Number of groups</strong></td>\n",
       "                <td>0</td>\n",
       "            </tr><tr>\n",
       "                <td><strong>Objective expression</strong></td>\n",
       "                <td>1.0*bio2_biomass - 1.0*bio2_biomass_reverse_58445</td>\n",
       "            </tr><tr>\n",
       "                <td><strong>Compartments</strong></td>\n",
       "                <td>c0, d0, g0, v0, w0, x0, m0, n0, r0, e0, j0</td>\n",
       "            </tr>\n",
       "          </table>"
      ],
      "text/plain": [
       "<Model CR_GAPFILLED at 0x7f33a17b2470>"
      ]
     },
     "execution_count": 51,
     "metadata": {},
     "output_type": "execute_result"
    }
   ],
   "source": [
    "model2"
   ]
  },
  {
   "cell_type": "code",
   "execution_count": 52,
   "metadata": {},
   "outputs": [
    {
     "data": {
      "text/html": [
       "\n",
       "        <table>\n",
       "            <tr>\n",
       "                <td><strong>Name</strong></td>\n",
       "                <td>DS_GAPFILLED</td>\n",
       "            </tr><tr>\n",
       "                <td><strong>Memory address</strong></td>\n",
       "                <td>0x07f3399aa0128</td>\n",
       "            </tr><tr>\n",
       "                <td><strong>Number of metabolites</strong></td>\n",
       "                <td>1137</td>\n",
       "            </tr><tr>\n",
       "                <td><strong>Number of reactions</strong></td>\n",
       "                <td>1085</td>\n",
       "            </tr><tr>\n",
       "                <td><strong>Number of groups</strong></td>\n",
       "                <td>0</td>\n",
       "            </tr><tr>\n",
       "                <td><strong>Objective expression</strong></td>\n",
       "                <td>1.0*bio2_biomass - 1.0*bio2_biomass_reverse_58445</td>\n",
       "            </tr><tr>\n",
       "                <td><strong>Compartments</strong></td>\n",
       "                <td>c0, d0, g0, v0, w0, x0, m0, n0, r0, e0, j0</td>\n",
       "            </tr>\n",
       "          </table>"
      ],
      "text/plain": [
       "<Model DS_GAPFILLED at 0x7f3399aa0128>"
      ]
     },
     "execution_count": 52,
     "metadata": {},
     "output_type": "execute_result"
    }
   ],
   "source": [
    "model3"
   ]
  },
  {
   "cell_type": "code",
   "execution_count": 53,
   "metadata": {},
   "outputs": [
    {
     "data": {
      "text/html": [
       "\n",
       "        <table>\n",
       "            <tr>\n",
       "                <td><strong>Name</strong></td>\n",
       "                <td>FA_Gapfilled</td>\n",
       "            </tr><tr>\n",
       "                <td><strong>Memory address</strong></td>\n",
       "                <td>0x07f33999a0d68</td>\n",
       "            </tr><tr>\n",
       "                <td><strong>Number of metabolites</strong></td>\n",
       "                <td>653</td>\n",
       "            </tr><tr>\n",
       "                <td><strong>Number of reactions</strong></td>\n",
       "                <td>582</td>\n",
       "            </tr><tr>\n",
       "                <td><strong>Number of groups</strong></td>\n",
       "                <td>0</td>\n",
       "            </tr><tr>\n",
       "                <td><strong>Objective expression</strong></td>\n",
       "                <td>1.0*bio1_biomass - 1.0*bio1_biomass_reverse_6e711</td>\n",
       "            </tr><tr>\n",
       "                <td><strong>Compartments</strong></td>\n",
       "                <td>c0, e0</td>\n",
       "            </tr>\n",
       "          </table>"
      ],
      "text/plain": [
       "<Model FA_Gapfilled at 0x7f33999a0d68>"
      ]
     },
     "execution_count": 53,
     "metadata": {},
     "output_type": "execute_result"
    }
   ],
   "source": [
    "model4"
   ]
  },
  {
   "cell_type": "code",
   "execution_count": 54,
   "metadata": {},
   "outputs": [
    {
     "data": {
      "text/html": [
       "\n",
       "        <table>\n",
       "            <tr>\n",
       "                <td><strong>Name</strong></td>\n",
       "                <td>SA_Gapfilled</td>\n",
       "            </tr><tr>\n",
       "                <td><strong>Memory address</strong></td>\n",
       "                <td>0x07f339a68fcc0</td>\n",
       "            </tr><tr>\n",
       "                <td><strong>Number of metabolites</strong></td>\n",
       "                <td>734</td>\n",
       "            </tr><tr>\n",
       "                <td><strong>Number of reactions</strong></td>\n",
       "                <td>675</td>\n",
       "            </tr><tr>\n",
       "                <td><strong>Number of groups</strong></td>\n",
       "                <td>0</td>\n",
       "            </tr><tr>\n",
       "                <td><strong>Objective expression</strong></td>\n",
       "                <td>1.0*bio1_biomass - 1.0*bio1_biomass_reverse_6e711</td>\n",
       "            </tr><tr>\n",
       "                <td><strong>Compartments</strong></td>\n",
       "                <td>c0, e0</td>\n",
       "            </tr>\n",
       "          </table>"
      ],
      "text/plain": [
       "<Model SA_Gapfilled at 0x7f339a68fcc0>"
      ]
     },
     "execution_count": 54,
     "metadata": {},
     "output_type": "execute_result"
    }
   ],
   "source": [
    "model5"
   ]
  },
  {
   "cell_type": "code",
   "execution_count": 55,
   "metadata": {},
   "outputs": [
    {
     "data": {
      "text/html": [
       "\n",
       "        <table>\n",
       "            <tr>\n",
       "                <td><strong>Name</strong></td>\n",
       "                <td>SP_Gapfilled</td>\n",
       "            </tr><tr>\n",
       "                <td><strong>Memory address</strong></td>\n",
       "                <td>0x07f33a007bf60</td>\n",
       "            </tr><tr>\n",
       "                <td><strong>Number of metabolites</strong></td>\n",
       "                <td>703</td>\n",
       "            </tr><tr>\n",
       "                <td><strong>Number of reactions</strong></td>\n",
       "                <td>655</td>\n",
       "            </tr><tr>\n",
       "                <td><strong>Number of groups</strong></td>\n",
       "                <td>0</td>\n",
       "            </tr><tr>\n",
       "                <td><strong>Objective expression</strong></td>\n",
       "                <td>1.0*bio1_biomass - 1.0*bio1_biomass_reverse_6e711</td>\n",
       "            </tr><tr>\n",
       "                <td><strong>Compartments</strong></td>\n",
       "                <td>c0, e0</td>\n",
       "            </tr>\n",
       "          </table>"
      ],
      "text/plain": [
       "<Model SP_Gapfilled at 0x7f33a007bf60>"
      ]
     },
     "execution_count": 55,
     "metadata": {},
     "output_type": "execute_result"
    }
   ],
   "source": [
    "model6"
   ]
  },
  {
   "cell_type": "code",
   "execution_count": 86,
   "metadata": {},
   "outputs": [],
   "source": [
    "Biomass=['cpd19001_c0',\n",
    "'cpd00023_c0',\n",
    "'cpd16443_c0',\n",
    "'cpd00033_c0',\n",
    "'cpd00347_c0',\n",
    "'cpd00067_c0',\n",
    "'cpd00125_c0',\n",
    "'cpd00080_c0',\n",
    "'cpd00006_c0',\n",
    "'cpd00201_c0',\n",
    "'cpd00041_c0',\n",
    "'cpd00066_c0',\n",
    "'cpd00053_c0',\n",
    "'cpd00062_c0',\n",
    "'cpd00035_c0',\n",
    "'cpd00050_c0',\n",
    "'cpd00132_c0',\n",
    "'cpd30321_c0',\n",
    "'cpd00834_c0',\n",
    "'cpd00017_c0',\n",
    "'cpd00054_c0',\n",
    "'cpd00129_c0',\n",
    "'cpd12844_d0',\n",
    "'cpd00032_c0',\n",
    "'cpd11416_c0',\n",
    "'cpd00356_c0',\n",
    "'cpd00005_c0',\n",
    "'cpd00039_c0',\n",
    "'cpd00052_c0',\n",
    "'cpd25914_c0',\n",
    "'cpd00163_c0',\n",
    "'cpd00345_c0',\n",
    "'cpd00002_c0',\n",
    "'cpd00161_c0',\n",
    "'cpd00087_c0',\n",
    "'cpd00001_c0',\n",
    "'cpd00115_c0',\n",
    "'cpd00056_c0',\n",
    "'cpd00069_c0',\n",
    "'cpd00322_c0',\n",
    "'cpd00331_c0',\n",
    "'cpd00004_c0',\n",
    "'cpd00536_c0',\n",
    "'cpd16503_c0',\n",
    "'cpd00104_c0',\n",
    "'cpd00012_c0',\n",
    "'cpd00130_c0',\n",
    "'cpd00009_c0',\n",
    "'cpd00008_c0',\n",
    "'cpd01059_c0',\n",
    "'cpd00205_c0',\n",
    "'cpd00099_c0',\n",
    "'cpd00357_c0',\n",
    "'cpd00159_c0',\n",
    "'cpd00015_c0',\n",
    "'cpd00156_c0',\n",
    "'cpd00051_c0',\n",
    "'cpd00119_c0',\n",
    "'cpd00107_c0',\n",
    "'cpd00604_c0',\n",
    "'cpd01080_c0',\n",
    "'cpd00014_c0',\n",
    "'cpd00016_c0',\n",
    "'cpd00084_c0',\n",
    "'cpd00241_c0',\n",
    "'cpd02197_c0',\n",
    "'cpd00010_c0',\n",
    "'cpd00003_c0',\n",
    "'cpd00038_c0',\n",
    "'cpd00060_c0',\n",
    "'cpd00065_c0',\n",
    "'cpd00137_c0',\n",
    "'cpd00002_c0',\n",
    "'cpd25914_c0',\n",
    "'cpd00345_c0',\n",
    "'cpd00163_c0',\n",
    "'cpd00087_c0',\n",
    "'cpd00059_c0',\n",
    "'cpd00001_c0',\n",
    "'cpd00161_c0',\n",
    "'cpd00056_c0',\n",
    "'cpd00115_c0',\n",
    "'cpd00069_c0',\n",
    "'cpd00331_c0',\n",
    "'cpd00322_c0',\n",
    "'cpd00104_c0',\n",
    "'cpd00004_c0',\n",
    "'cpd16503_c0',\n",
    "'cpd00536_c0',\n",
    "'cpd00009_c0',\n",
    "'cpd00130_c0',\n",
    "'cpd00012_c0',\n",
    "'cpd00008_c0',\n",
    "'cpd00205_c0',\n",
    "'cpd01059_c0',\n",
    "'cpd00159_c0',\n",
    "'cpd01628_c0',\n",
    "'cpd00099_c0',\n",
    "'cpd00357_c0',\n",
    "'cpd00156_c0',\n",
    "'cpd00015_c0',\n",
    "'cpd00119_c0',\n",
    "'cpd00051_c0',\n",
    "'cpd00107_c0',\n",
    "'cpd00604_c0',\n",
    "'cpd00014_c0',\n",
    "'cpd01080_c0',\n",
    "'cpd00016_c0',\n",
    "'cpd00038_c0',\n",
    "'cpd00060_c0',\n",
    "'cpd00241_c0',\n",
    "'cpd00010_c0',\n",
    "'cpd00084_c0',\n",
    "'cpd00003_c0',\n",
    "'cpd02197_c0',\n",
    "'cpd00137_c0',\n",
    "'cpd00065_c0',\n",
    "'cpd19001_c0',\n",
    "'cpd01420_c0',\n",
    "'cpd00023_c0',\n",
    "'cpd00033_c0',\n",
    "'cpd16443_c0',\n",
    "'cpd00067_c0',\n",
    "'cpd00125_c0',\n",
    "'cpd00347_c0',\n",
    "'cpd00066_c0',\n",
    "'cpd00041_c0',\n",
    "'cpd00053_c0',\n",
    "'cpd00006_c0',\n",
    "'cpd00080_c0',\n",
    "'cpd00201_c0',\n",
    "'cpd00062_c0',\n",
    "'cpd00035_c0',\n",
    "'cpd00050_c0',\n",
    "'cpd30321_c0',\n",
    "'cpd00132_c0',\n",
    "'cpd00054_c0',\n",
    "'cpd00834_c0',\n",
    "'cpd00017_c0',\n",
    "'cpd12844_d0',\n",
    "'cpd00129_c0',\n",
    "'cpd11416_c0',\n",
    "'cpd00356_c0',\n",
    "'cpd00032_c0',\n",
    "'cpd00039_c0',\n",
    "'cpd00052_c0',\n",
    "'cpd00005_c0'\n",
    "]"
   ]
  },
  {
   "cell_type": "code",
   "execution_count": 56,
   "metadata": {},
   "outputs": [
    {
     "name": "stdout",
     "output_type": "stream",
     "text": [
      "                      flux\n",
      "rxn00001_c0    -411.981507\n",
      "rxn00001_d0       0.000000\n",
      "rxn00001_g0       0.000000\n",
      "rxn00001_v0       0.000000\n",
      "rxn00001_w0       0.000000\n",
      "...                    ...\n",
      "EX_cpd00205_e0  -25.872997\n",
      "EX_cpd00007_e0 -194.961138\n",
      "EX_cpd00009_e0  -29.631576\n",
      "DM_cpd02701_c0    0.008428\n",
      "DM_cpd11416_c0   84.276862\n",
      "\n",
      "[1085 rows x 1 columns]\n"
     ]
    }
   ],
   "source": [
    "from cameo import fba\n",
    "fba_result1 = fba(model1)\n",
    "print(fba_result1.data_frame)"
   ]
  },
  {
   "cell_type": "code",
   "execution_count": 61,
   "metadata": {},
   "outputs": [
    {
     "name": "stdout",
     "output_type": "stream",
     "text": [
      "Sum of FBA Fluxes 45139.54395033344\n",
      "Sum of pFBA Fluxes 42741.34383003255\n"
     ]
    }
   ],
   "source": [
    "import cameo\n",
    "import cobra\n",
    "from cameo.strain_design import OptKnock\n",
    "from cameo.flux_analysis import lmoma,room\n",
    "fbaresult1 = cameo.fba(model1)\n",
    "pfbaresult1 = cameo.pfba(model1)\n",
    "print(\"Sum of FBA Fluxes\",abs(fbaresult1.data_frame.flux).sum())\n",
    "print(\"Sum of pFBA Fluxes\",abs(pfbaresult1.data_frame.flux).sum())\n"
   ]
  },
  {
   "cell_type": "code",
   "execution_count": 57,
   "metadata": {},
   "outputs": [
    {
     "name": "stdout",
     "output_type": "stream",
     "text": [
      "                flux\n",
      "rxn00001_c0      0.0\n",
      "rxn00001_d0      0.0\n",
      "rxn00001_g0      0.0\n",
      "rxn00001_v0      0.0\n",
      "rxn00001_w0      0.0\n",
      "...              ...\n",
      "EX_cpd00011_e0   0.0\n",
      "EX_cpd11632_e0   0.0\n",
      "EX_cpd00073_e0   0.0\n",
      "DM_cpd02701_c0   0.0\n",
      "DM_cpd11416_c0   0.0\n",
      "\n",
      "[1085 rows x 1 columns]\n"
     ]
    }
   ],
   "source": [
    "from cameo import fba\n",
    "fba_result2 = fba(model2)\n",
    "print(fba_result2.data_frame)"
   ]
  },
  {
   "cell_type": "code",
   "execution_count": 62,
   "metadata": {},
   "outputs": [
    {
     "name": "stdout",
     "output_type": "stream",
     "text": [
      "Sum of FBA Fluxes 0.0\n",
      "Sum of pFBA Fluxes 0.0\n"
     ]
    }
   ],
   "source": [
    "fbaresult2 = cameo.fba(model2)\n",
    "pfbaresult2 = cameo.pfba(model2)\n",
    "print(\"Sum of FBA Fluxes\",abs(fbaresult2.data_frame.flux).sum())\n",
    "print(\"Sum of pFBA Fluxes\",abs(pfbaresult2.data_frame.flux).sum())"
   ]
  },
  {
   "cell_type": "code",
   "execution_count": 58,
   "metadata": {},
   "outputs": [
    {
     "name": "stdout",
     "output_type": "stream",
     "text": [
      "                flux\n",
      "rxn00001_c0      0.0\n",
      "rxn00001_d0      0.0\n",
      "rxn00001_g0      0.0\n",
      "rxn00001_v0      0.0\n",
      "rxn00001_w0      0.0\n",
      "...              ...\n",
      "EX_cpd00075_e0   0.0\n",
      "EX_cpd00009_e0   0.0\n",
      "EX_cpd00205_e0   0.0\n",
      "DM_cpd11416_c0   0.0\n",
      "DM_cpd02701_c0   0.0\n",
      "\n",
      "[1085 rows x 1 columns]\n"
     ]
    }
   ],
   "source": [
    "from cameo import fba\n",
    "fba_result3 = fba(model3)\n",
    "print(fba_result3.data_frame)"
   ]
  },
  {
   "cell_type": "code",
   "execution_count": 63,
   "metadata": {},
   "outputs": [
    {
     "name": "stdout",
     "output_type": "stream",
     "text": [
      "Sum of FBA Fluxes 0.0\n",
      "Sum of pFBA Fluxes 0.0\n"
     ]
    }
   ],
   "source": [
    "fbaresult3 = cameo.fba(model3)\n",
    "pfbaresult3 = cameo.pfba(model3)\n",
    "print(\"Sum of FBA Fluxes\",abs(fbaresult3.data_frame.flux).sum())\n",
    "print(\"Sum of pFBA Fluxes\",abs(pfbaresult3.data_frame.flux).sum())"
   ]
  },
  {
   "cell_type": "code",
   "execution_count": 59,
   "metadata": {},
   "outputs": [
    {
     "name": "stdout",
     "output_type": "stream",
     "text": [
      "                     flux\n",
      "rxn02201_c0      0.000000\n",
      "rxn00423_c0      0.000000\n",
      "rxn00646_c0      0.000000\n",
      "rxn01452_c0      0.000000\n",
      "rxn00642_c0      0.000000\n",
      "...                   ...\n",
      "EX_cpd00080_e0 -10.008801\n",
      "EX_cpd00122_e0  -5.224249\n",
      "EX_cpd00011_e0  38.898469\n",
      "EX_cpd00132_e0 -10.487455\n",
      "DM_cpd11416_c0  52.220352\n",
      "\n",
      "[582 rows x 1 columns]\n"
     ]
    }
   ],
   "source": [
    "from cameo import fba\n",
    "fba_result4 = fba(model4)\n",
    "print(fba_result4.data_frame)"
   ]
  },
  {
   "cell_type": "code",
   "execution_count": 64,
   "metadata": {},
   "outputs": [
    {
     "name": "stdout",
     "output_type": "stream",
     "text": [
      "Sum of FBA Fluxes 10195.252476183487\n",
      "Sum of pFBA Fluxes 10195.252476183494\n"
     ]
    }
   ],
   "source": [
    "fbaresult4 = cameo.fba(model4)\n",
    "pfbaresult4 = cameo.pfba(model4)\n",
    "print(\"Sum of FBA Fluxes\",abs(fbaresult4.data_frame.flux).sum())\n",
    "print(\"Sum of pFBA Fluxes\",abs(pfbaresult4.data_frame.flux).sum())"
   ]
  },
  {
   "cell_type": "code",
   "execution_count": 66,
   "metadata": {},
   "outputs": [
    {
     "name": "stdout",
     "output_type": "stream",
     "text": [
      "                     flux\n",
      "rxn02201_c0      0.000000\n",
      "rxn00646_c0      0.000000\n",
      "rxn02360_c0      0.000000\n",
      "rxn00973_c0      0.144672\n",
      "rxn02000_c0      0.389511\n",
      "...                   ...\n",
      "EX_cpd00528_e0   8.384943\n",
      "EX_cpd00048_e0  -0.048224\n",
      "EX_cpd00322_e0  -5.092383\n",
      "DM_cpd11416_c0  15.573854\n",
      "DM_cpd15302_c0   0.000000\n",
      "\n",
      "[675 rows x 1 columns]\n"
     ]
    }
   ],
   "source": [
    "from cameo import fba\n",
    "fba_result5 = fba(model5)\n",
    "print(fba_result5.data_frame)"
   ]
  },
  {
   "cell_type": "code",
   "execution_count": 65,
   "metadata": {},
   "outputs": [
    {
     "name": "stdout",
     "output_type": "stream",
     "text": [
      "Sum of FBA Fluxes 7415.50565397579\n",
      "Sum of pFBA Fluxes 7413.168585546113\n"
     ]
    }
   ],
   "source": [
    "fbaresult5 = cameo.fba(model5)\n",
    "pfbaresult5 = cameo.pfba(model5)\n",
    "print(\"Sum of FBA Fluxes\",abs(fbaresult5.data_frame.flux).sum())\n",
    "print(\"Sum of pFBA Fluxes\",abs(pfbaresult5.data_frame.flux).sum())"
   ]
  },
  {
   "cell_type": "code",
   "execution_count": 60,
   "metadata": {},
   "outputs": [
    {
     "name": "stdout",
     "output_type": "stream",
     "text": [
      "                     flux\n",
      "rxn02201_c0      0.000000\n",
      "rxn08977_c0      0.000000\n",
      "rxn00364_c0      0.000000\n",
      "rxn02177_c0      0.000000\n",
      "rxn00642_c0      0.000000\n",
      "...                   ...\n",
      "EX_cpd00215_e0  -0.237696\n",
      "EX_cpd01741_e0  -9.599539\n",
      "EX_cpd11580_e0 -13.398210\n",
      "DM_cpd15302_c0   0.000000\n",
      "DM_cpd11416_c0  76.763770\n",
      "\n",
      "[655 rows x 1 columns]\n"
     ]
    }
   ],
   "source": [
    "from cameo import fba\n",
    "fba_result6 = fba(model6)\n",
    "print(fba_result6.data_frame)"
   ]
  },
  {
   "cell_type": "code",
   "execution_count": 67,
   "metadata": {},
   "outputs": [
    {
     "name": "stdout",
     "output_type": "stream",
     "text": [
      "Sum of FBA Fluxes 9849.45234503156\n",
      "Sum of pFBA Fluxes 9785.46342474176\n"
     ]
    }
   ],
   "source": [
    "fbaresult6 = cameo.fba(model6)\n",
    "pfbaresult6 = cameo.pfba(model6)\n",
    "print(\"Sum of FBA Fluxes\",abs(fbaresult6.data_frame.flux).sum())\n",
    "print(\"Sum of pFBA Fluxes\",abs(pfbaresult6.data_frame.flux).sum())"
   ]
  },
  {
   "cell_type": "markdown",
   "metadata": {},
   "source": [
    "# # # # # # # # # # # # # # # # # # # # # # # # # # # # # # # # # # # # # # # # # # # # # "
   ]
  },
  {
   "cell_type": "code",
   "execution_count": null,
   "metadata": {},
   "outputs": [],
   "source": [
    "from cameo import flux_variability_analysis\n",
    "fva_result1 = flux_variability_analysis(model1)\n",
    "fva_result1.data_frame"
   ]
  },
  {
   "cell_type": "code",
   "execution_count": null,
   "metadata": {},
   "outputs": [],
   "source": [
    "from cameo import flux_variability_analysis\n",
    "fva_result2 = flux_variability_analysis(model2)\n",
    "fva_result2.data_frame"
   ]
  },
  {
   "cell_type": "code",
   "execution_count": null,
   "metadata": {},
   "outputs": [],
   "source": [
    "from cameo import flux_variability_analysis\n",
    "fva_result3 = flux_variability_analysis(model3)\n",
    "fva_result3.data_frame"
   ]
  },
  {
   "cell_type": "code",
   "execution_count": null,
   "metadata": {},
   "outputs": [],
   "source": [
    "from cameo import flux_variability_analysis\n",
    "fva_result4 = flux_variability_analysis(model4)\n",
    "fva_result4.data_frame"
   ]
  },
  {
   "cell_type": "code",
   "execution_count": null,
   "metadata": {},
   "outputs": [],
   "source": [
    "from cameo import flux_variability_analysis\n",
    "fva_result5 = flux_variability_analysis(model5)\n",
    "fva_result5.data_frame"
   ]
  },
  {
   "cell_type": "code",
   "execution_count": null,
   "metadata": {},
   "outputs": [],
   "source": [
    "from cameo import flux_variability_analysis\n",
    "fva_result6 = flux_variability_analysis(model6)\n",
    "fva_result6.data_frame"
   ]
  },
  {
   "cell_type": "markdown",
   "metadata": {},
   "source": [
    "# # # # # # # # # # # # # # # # # # # # # # # # # # # # # # # # # # # # # # # # # # # # # "
   ]
  },
  {
   "cell_type": "code",
   "execution_count": 85,
   "metadata": {},
   "outputs": [
    {
     "data": {
      "text/plain": [
       "''"
      ]
     },
     "execution_count": 85,
     "metadata": {},
     "output_type": "execute_result"
    }
   ],
   "source": [
    "model1.reactions(where )"
   ]
  },
  {
   "cell_type": "code",
   "execution_count": 99,
   "metadata": {},
   "outputs": [
    {
     "name": "stderr",
     "output_type": "stream",
     "text": [
      "/home/ec2-user/anaconda3/envs/pytorch_p36/lib/python3.6/site-packages/cameo/strain_design/deterministic/linear_programming.py:119: UserWarning: You are trying to run OptKnock with glpk_interface. This might not end well.\n",
      "  self._model.solver.interface.__name__.split(\".\")[-1])\n"
     ]
    },
    {
     "ename": "AttributeError",
     "evalue": "'str' object has no attribute 'shape'",
     "output_type": "error",
     "traceback": [
      "\u001b[0;31m---------------------------------------------------------------------------\u001b[0m",
      "\u001b[0;31mAttributeError\u001b[0m                            Traceback (most recent call last)",
      "\u001b[0;32m<ipython-input-99-3003decae796>\u001b[0m in \u001b[0;36m<module>\u001b[0;34m\u001b[0m\n\u001b[0;32m----> 1\u001b[0;31m \u001b[0moptknock1\u001b[0m \u001b[0;34m=\u001b[0m \u001b[0mcameo\u001b[0m\u001b[0;34m.\u001b[0m\u001b[0mstrain_design\u001b[0m\u001b[0;34m.\u001b[0m\u001b[0mOptKnock\u001b[0m\u001b[0;34m(\u001b[0m\u001b[0mmodel1\u001b[0m\u001b[0;34m,\u001b[0m\u001b[0mfraction_of_optimum\u001b[0m\u001b[0;34m=\u001b[0m\u001b[0;36m0.1\u001b[0m\u001b[0;34m)\u001b[0m\u001b[0;34m\u001b[0m\u001b[0;34m\u001b[0m\u001b[0m\n\u001b[0m\u001b[1;32m      2\u001b[0m \u001b[0mresult\u001b[0m \u001b[0;34m=\u001b[0m \u001b[0moptknock1\u001b[0m\u001b[0;34m.\u001b[0m\u001b[0mrun\u001b[0m\u001b[0;34m(\u001b[0m\u001b[0mmax_knockouts\u001b[0m \u001b[0;34m=\u001b[0m \u001b[0;36m1\u001b[0m\u001b[0;34m,\u001b[0m \u001b[0mtarget\u001b[0m\u001b[0;34m=\u001b[0m\u001b[0;34m\"'rxn00543_c0\"\u001b[0m\u001b[0;34m,\u001b[0m \u001b[0mbiomass\u001b[0m\u001b[0;34m=\u001b[0m\u001b[0;34m\"cpd11416_c0\"\u001b[0m\u001b[0;34m)\u001b[0m\u001b[0;34m\u001b[0m\u001b[0;34m\u001b[0m\u001b[0m\n\u001b[1;32m      3\u001b[0m \u001b[0;31m#result.plot()\u001b[0m\u001b[0;34m\u001b[0m\u001b[0;34m\u001b[0m\u001b[0;34m\u001b[0m\u001b[0m\n\u001b[1;32m      4\u001b[0m \u001b[0mdisplay\u001b[0m\u001b[0;34m(\u001b[0m\u001b[0mresult\u001b[0m\u001b[0;34m.\u001b[0m\u001b[0mdata_frame\u001b[0m\u001b[0;34m)\u001b[0m\u001b[0;34m\u001b[0m\u001b[0;34m\u001b[0m\u001b[0m\n",
      "\u001b[0;32m~/anaconda3/envs/pytorch_p36/lib/python3.6/site-packages/cameo/strain_design/deterministic/linear_programming.py\u001b[0m in \u001b[0;36m__init__\u001b[0;34m(self, model, exclude_reactions, remove_blocked, fraction_of_optimum, exclude_non_gene_reactions, use_nullspace_simplification, *args, **kwargs)\u001b[0m\n\u001b[1;32m    122\u001b[0m             \u001b[0mfix_objective_as_constraint\u001b[0m\u001b[0;34m(\u001b[0m\u001b[0mself\u001b[0m\u001b[0;34m.\u001b[0m\u001b[0m_model\u001b[0m\u001b[0;34m,\u001b[0m \u001b[0mfraction\u001b[0m\u001b[0;34m=\u001b[0m\u001b[0mfraction_of_optimum\u001b[0m\u001b[0;34m)\u001b[0m\u001b[0;34m\u001b[0m\u001b[0;34m\u001b[0m\u001b[0m\n\u001b[1;32m    123\u001b[0m         \u001b[0;32mif\u001b[0m \u001b[0mremove_blocked\u001b[0m\u001b[0;34m:\u001b[0m\u001b[0;34m\u001b[0m\u001b[0;34m\u001b[0m\u001b[0m\n\u001b[0;32m--> 124\u001b[0;31m             \u001b[0mself\u001b[0m\u001b[0;34m.\u001b[0m\u001b[0m_remove_blocked_reactions\u001b[0m\u001b[0;34m(\u001b[0m\u001b[0;34m)\u001b[0m\u001b[0;34m\u001b[0m\u001b[0;34m\u001b[0m\u001b[0m\n\u001b[0m\u001b[1;32m    125\u001b[0m         \u001b[0;32mif\u001b[0m \u001b[0mexclude_reactions\u001b[0m\u001b[0;34m:\u001b[0m\u001b[0;34m\u001b[0m\u001b[0;34m\u001b[0m\u001b[0m\n\u001b[1;32m    126\u001b[0m             \u001b[0;31m# Convert exclude_reactions to reaction ID's\u001b[0m\u001b[0;34m\u001b[0m\u001b[0;34m\u001b[0m\u001b[0;34m\u001b[0m\u001b[0m\n",
      "\u001b[0;32m~/anaconda3/envs/pytorch_p36/lib/python3.6/site-packages/cameo/strain_design/deterministic/linear_programming.py\u001b[0m in \u001b[0;36m_remove_blocked_reactions\u001b[0;34m(self)\u001b[0m\n\u001b[1;32m    139\u001b[0m \u001b[0;34m\u001b[0m\u001b[0m\n\u001b[1;32m    140\u001b[0m     \u001b[0;32mdef\u001b[0m \u001b[0m_remove_blocked_reactions\u001b[0m\u001b[0;34m(\u001b[0m\u001b[0mself\u001b[0m\u001b[0;34m)\u001b[0m\u001b[0;34m:\u001b[0m\u001b[0;34m\u001b[0m\u001b[0;34m\u001b[0m\u001b[0m\n\u001b[0;32m--> 141\u001b[0;31m         \u001b[0mfva_res\u001b[0m \u001b[0;34m=\u001b[0m \u001b[0mflux_variability_analysis\u001b[0m\u001b[0;34m(\u001b[0m\u001b[0mself\u001b[0m\u001b[0;34m.\u001b[0m\u001b[0m_model\u001b[0m\u001b[0;34m,\u001b[0m \u001b[0mfraction_of_optimum\u001b[0m\u001b[0;34m=\u001b[0m\u001b[0;36m0\u001b[0m\u001b[0;34m)\u001b[0m\u001b[0;34m\u001b[0m\u001b[0;34m\u001b[0m\u001b[0m\n\u001b[0m\u001b[1;32m    142\u001b[0m         \u001b[0;31m# FIXME: Iterate over the index only (reaction identifiers).\u001b[0m\u001b[0;34m\u001b[0m\u001b[0;34m\u001b[0m\u001b[0;34m\u001b[0m\u001b[0m\n\u001b[1;32m    143\u001b[0m         blocked = [\n",
      "\u001b[0;32m~/anaconda3/envs/pytorch_p36/lib/python3.6/site-packages/cameo/flux_analysis/analysis.py\u001b[0m in \u001b[0;36mflux_variability_analysis\u001b[0;34m(model, reactions, fraction_of_optimum, pfba_factor, remove_cycles, view)\u001b[0m\n\u001b[1;32m    222\u001b[0m         \u001b[0;32melse\u001b[0m\u001b[0;34m:\u001b[0m\u001b[0;34m\u001b[0m\u001b[0;34m\u001b[0m\u001b[0m\n\u001b[1;32m    223\u001b[0m             \u001b[0mfunc_obj\u001b[0m \u001b[0;34m=\u001b[0m \u001b[0m_FvaFunctionObject\u001b[0m\u001b[0;34m(\u001b[0m\u001b[0mmodel\u001b[0m\u001b[0;34m,\u001b[0m \u001b[0m_flux_variability_analysis\u001b[0m\u001b[0;34m)\u001b[0m\u001b[0;34m\u001b[0m\u001b[0;34m\u001b[0m\u001b[0m\n\u001b[0;32m--> 224\u001b[0;31m         \u001b[0mchunky_results\u001b[0m \u001b[0;34m=\u001b[0m \u001b[0mview\u001b[0m\u001b[0;34m.\u001b[0m\u001b[0mmap\u001b[0m\u001b[0;34m(\u001b[0m\u001b[0mfunc_obj\u001b[0m\u001b[0;34m,\u001b[0m \u001b[0mreaction_chunks\u001b[0m\u001b[0;34m)\u001b[0m\u001b[0;34m\u001b[0m\u001b[0;34m\u001b[0m\u001b[0m\n\u001b[0m\u001b[1;32m    225\u001b[0m         \u001b[0msolution\u001b[0m \u001b[0;34m=\u001b[0m \u001b[0mpandas\u001b[0m\u001b[0;34m.\u001b[0m\u001b[0mconcat\u001b[0m\u001b[0;34m(\u001b[0m\u001b[0mchunky_results\u001b[0m\u001b[0;34m)\u001b[0m\u001b[0;34m\u001b[0m\u001b[0;34m\u001b[0m\u001b[0m\n\u001b[1;32m    226\u001b[0m \u001b[0;34m\u001b[0m\u001b[0m\n",
      "\u001b[0;32m~/anaconda3/envs/pytorch_p36/lib/python3.6/site-packages/cameo/parallel.py\u001b[0m in \u001b[0;36mmap\u001b[0;34m(self, *args, **kwargs)\u001b[0m\n\u001b[1;32m    229\u001b[0m \u001b[0;32mclass\u001b[0m \u001b[0mSequentialView\u001b[0m\u001b[0;34m(\u001b[0m\u001b[0mobject\u001b[0m\u001b[0;34m)\u001b[0m\u001b[0;34m:\u001b[0m\u001b[0;34m\u001b[0m\u001b[0;34m\u001b[0m\u001b[0m\n\u001b[1;32m    230\u001b[0m     \u001b[0;32mdef\u001b[0m \u001b[0mmap\u001b[0m\u001b[0;34m(\u001b[0m\u001b[0mself\u001b[0m\u001b[0;34m,\u001b[0m \u001b[0;34m*\u001b[0m\u001b[0margs\u001b[0m\u001b[0;34m,\u001b[0m \u001b[0;34m**\u001b[0m\u001b[0mkwargs\u001b[0m\u001b[0;34m)\u001b[0m\u001b[0;34m:\u001b[0m\u001b[0;34m\u001b[0m\u001b[0;34m\u001b[0m\u001b[0m\n\u001b[0;32m--> 231\u001b[0;31m         \u001b[0;32mreturn\u001b[0m \u001b[0mlist\u001b[0m\u001b[0;34m(\u001b[0m\u001b[0mmap\u001b[0m\u001b[0;34m(\u001b[0m\u001b[0;34m*\u001b[0m\u001b[0margs\u001b[0m\u001b[0;34m,\u001b[0m \u001b[0;34m**\u001b[0m\u001b[0mkwargs\u001b[0m\u001b[0;34m)\u001b[0m\u001b[0;34m)\u001b[0m\u001b[0;34m\u001b[0m\u001b[0;34m\u001b[0m\u001b[0m\n\u001b[0m\u001b[1;32m    232\u001b[0m \u001b[0;34m\u001b[0m\u001b[0m\n\u001b[1;32m    233\u001b[0m     \u001b[0;32mdef\u001b[0m \u001b[0mapply\u001b[0m\u001b[0;34m(\u001b[0m\u001b[0mself\u001b[0m\u001b[0;34m,\u001b[0m \u001b[0mfunc\u001b[0m\u001b[0;34m,\u001b[0m \u001b[0;34m*\u001b[0m\u001b[0margs\u001b[0m\u001b[0;34m,\u001b[0m \u001b[0;34m**\u001b[0m\u001b[0mkwargs\u001b[0m\u001b[0;34m)\u001b[0m\u001b[0;34m:\u001b[0m\u001b[0;34m\u001b[0m\u001b[0;34m\u001b[0m\u001b[0m\n",
      "\u001b[0;32m~/anaconda3/envs/pytorch_p36/lib/python3.6/site-packages/cameo/flux_analysis/analysis.py\u001b[0m in \u001b[0;36m__call__\u001b[0;34m(self, reactions)\u001b[0m\n\u001b[1;32m    346\u001b[0m \u001b[0;34m\u001b[0m\u001b[0m\n\u001b[1;32m    347\u001b[0m     \u001b[0;32mdef\u001b[0m \u001b[0m__call__\u001b[0m\u001b[0;34m(\u001b[0m\u001b[0mself\u001b[0m\u001b[0;34m,\u001b[0m \u001b[0mreactions\u001b[0m\u001b[0;34m)\u001b[0m\u001b[0;34m:\u001b[0m\u001b[0;34m\u001b[0m\u001b[0;34m\u001b[0m\u001b[0m\n\u001b[0;32m--> 348\u001b[0;31m         \u001b[0;32mreturn\u001b[0m \u001b[0mself\u001b[0m\u001b[0;34m.\u001b[0m\u001b[0mfva\u001b[0m\u001b[0;34m(\u001b[0m\u001b[0mself\u001b[0m\u001b[0;34m.\u001b[0m\u001b[0mmodel\u001b[0m\u001b[0;34m,\u001b[0m \u001b[0mreactions\u001b[0m\u001b[0;34m)\u001b[0m\u001b[0;34m\u001b[0m\u001b[0;34m\u001b[0m\u001b[0m\n\u001b[0m\u001b[1;32m    349\u001b[0m \u001b[0;34m\u001b[0m\u001b[0m\n\u001b[1;32m    350\u001b[0m \u001b[0;34m\u001b[0m\u001b[0m\n",
      "\u001b[0;32m~/anaconda3/envs/pytorch_p36/lib/python3.6/site-packages/cameo/flux_analysis/analysis.py\u001b[0m in \u001b[0;36m_flux_variability_analysis\u001b[0;34m(model, reactions)\u001b[0m\n\u001b[1;32m    414\u001b[0m     \u001b[0;31m# Assert that these cases really only numerical artifacts\u001b[0m\u001b[0;34m\u001b[0m\u001b[0;34m\u001b[0m\u001b[0;34m\u001b[0m\u001b[0m\n\u001b[1;32m    415\u001b[0m     \u001b[0;32mtry\u001b[0m\u001b[0;34m:\u001b[0m\u001b[0;34m\u001b[0m\u001b[0;34m\u001b[0m\u001b[0m\n\u001b[0;32m--> 416\u001b[0;31m         \u001b[0;32massert\u001b[0m \u001b[0;34m(\u001b[0m\u001b[0;34m(\u001b[0m\u001b[0mlb_higher_ub\u001b[0m\u001b[0;34m.\u001b[0m\u001b[0mlower_bound\u001b[0m \u001b[0;34m-\u001b[0m \u001b[0mlb_higher_ub\u001b[0m\u001b[0;34m.\u001b[0m\u001b[0mupper_bound\u001b[0m\u001b[0;34m)\u001b[0m \u001b[0;34m<\u001b[0m \u001b[0;36m1e-6\u001b[0m\u001b[0;34m)\u001b[0m\u001b[0;34m.\u001b[0m\u001b[0mall\u001b[0m\u001b[0;34m(\u001b[0m\u001b[0;34m)\u001b[0m\u001b[0;34m\u001b[0m\u001b[0;34m\u001b[0m\u001b[0m\n\u001b[0m\u001b[1;32m    417\u001b[0m     \u001b[0;32mexcept\u001b[0m \u001b[0mAssertionError\u001b[0m\u001b[0;34m:\u001b[0m\u001b[0;34m\u001b[0m\u001b[0;34m\u001b[0m\u001b[0m\n\u001b[1;32m    418\u001b[0m         \u001b[0mlogger\u001b[0m\u001b[0;34m.\u001b[0m\u001b[0mdebug\u001b[0m\u001b[0;34m(\u001b[0m\u001b[0mlist\u001b[0m\u001b[0;34m(\u001b[0m\u001b[0mzip\u001b[0m\u001b[0;34m(\u001b[0m\u001b[0mmodel\u001b[0m\u001b[0;34m.\u001b[0m\u001b[0mreactions\u001b[0m\u001b[0;34m,\u001b[0m \u001b[0;34m(\u001b[0m\u001b[0mlb_higher_ub\u001b[0m\u001b[0;34m.\u001b[0m\u001b[0mlower_bound\u001b[0m \u001b[0;34m-\u001b[0m \u001b[0mlb_higher_ub\u001b[0m\u001b[0;34m.\u001b[0m\u001b[0mupper_bound\u001b[0m\u001b[0;34m)\u001b[0m \u001b[0;34m<\u001b[0m \u001b[0;36m1e-6\u001b[0m\u001b[0;34m)\u001b[0m\u001b[0;34m)\u001b[0m\u001b[0;34m)\u001b[0m\u001b[0;34m\u001b[0m\u001b[0;34m\u001b[0m\u001b[0m\n",
      "\u001b[0;32m~/anaconda3/envs/pytorch_p36/lib/python3.6/site-packages/pandas/core/ops/common.py\u001b[0m in \u001b[0;36mnew_method\u001b[0;34m(self, other)\u001b[0m\n\u001b[1;32m     62\u001b[0m \u001b[0;34m\u001b[0m\u001b[0m\n\u001b[1;32m     63\u001b[0m         \u001b[0mother\u001b[0m \u001b[0;34m=\u001b[0m \u001b[0mitem_from_zerodim\u001b[0m\u001b[0;34m(\u001b[0m\u001b[0mother\u001b[0m\u001b[0;34m)\u001b[0m\u001b[0;34m\u001b[0m\u001b[0;34m\u001b[0m\u001b[0m\n\u001b[0;32m---> 64\u001b[0;31m \u001b[0;34m\u001b[0m\u001b[0m\n\u001b[0m\u001b[1;32m     65\u001b[0m         \u001b[0;32mreturn\u001b[0m \u001b[0mmethod\u001b[0m\u001b[0;34m(\u001b[0m\u001b[0mself\u001b[0m\u001b[0;34m,\u001b[0m \u001b[0mother\u001b[0m\u001b[0;34m)\u001b[0m\u001b[0;34m\u001b[0m\u001b[0;34m\u001b[0m\u001b[0m\n\u001b[1;32m     66\u001b[0m \u001b[0;34m\u001b[0m\u001b[0m\n",
      "\u001b[0;32m~/anaconda3/envs/pytorch_p36/lib/python3.6/site-packages/pandas/core/ops/__init__.py\u001b[0m in \u001b[0;36mwrapper\u001b[0;34m(left, right)\u001b[0m\n\u001b[1;32m    498\u001b[0m                 \u001b[0;34mf\"dimension must be <= 2: {right.shape}\"\u001b[0m\u001b[0;34m\u001b[0m\u001b[0;34m\u001b[0m\u001b[0m\n\u001b[1;32m    499\u001b[0m             )\n\u001b[0;32m--> 500\u001b[0;31m \u001b[0;34m\u001b[0m\u001b[0m\n\u001b[0m\u001b[1;32m    501\u001b[0m     \u001b[0;32melif\u001b[0m \u001b[0mis_list_like\u001b[0m\u001b[0;34m(\u001b[0m\u001b[0mright\u001b[0m\u001b[0;34m)\u001b[0m \u001b[0;32mand\u001b[0m \u001b[0;32mnot\u001b[0m \u001b[0misinstance\u001b[0m\u001b[0;34m(\u001b[0m\u001b[0mright\u001b[0m\u001b[0;34m,\u001b[0m \u001b[0;34m(\u001b[0m\u001b[0mABCSeries\u001b[0m\u001b[0;34m,\u001b[0m \u001b[0mABCDataFrame\u001b[0m\u001b[0;34m)\u001b[0m\u001b[0;34m)\u001b[0m\u001b[0;34m:\u001b[0m\u001b[0;34m\u001b[0m\u001b[0;34m\u001b[0m\u001b[0m\n\u001b[1;32m    502\u001b[0m         \u001b[0;31m# GH17901\u001b[0m\u001b[0;34m\u001b[0m\u001b[0;34m\u001b[0m\u001b[0;34m\u001b[0m\u001b[0m\n",
      "\u001b[0;32m~/anaconda3/envs/pytorch_p36/lib/python3.6/site-packages/pandas/core/ops/array_ops.py\u001b[0m in \u001b[0;36marithmetic_op\u001b[0;34m(left, right, op, str_rep)\u001b[0m\n\u001b[1;32m    195\u001b[0m \u001b[0;32mdef\u001b[0m \u001b[0mcomparison_op\u001b[0m\u001b[0;34m(\u001b[0m\u001b[0mleft\u001b[0m\u001b[0;34m:\u001b[0m \u001b[0mArrayLike\u001b[0m\u001b[0;34m,\u001b[0m \u001b[0mright\u001b[0m\u001b[0;34m:\u001b[0m \u001b[0mAny\u001b[0m\u001b[0;34m,\u001b[0m \u001b[0mop\u001b[0m\u001b[0;34m)\u001b[0m \u001b[0;34m->\u001b[0m \u001b[0mArrayLike\u001b[0m\u001b[0;34m:\u001b[0m\u001b[0;34m\u001b[0m\u001b[0;34m\u001b[0m\u001b[0m\n\u001b[1;32m    196\u001b[0m     \"\"\"\n\u001b[0;32m--> 197\u001b[0;31m     \u001b[0mEvaluate\u001b[0m \u001b[0ma\u001b[0m \u001b[0mcomparison\u001b[0m \u001b[0moperation\u001b[0m\u001b[0;31m \u001b[0m\u001b[0;31m`\u001b[0m\u001b[0;34m=\u001b[0m\u001b[0;31m`\u001b[0m\u001b[0;34m,\u001b[0m\u001b[0;31m \u001b[0m\u001b[0;31m`\u001b[0m\u001b[0;34m!=\u001b[0m\u001b[0;31m`\u001b[0m\u001b[0;34m,\u001b[0m\u001b[0;31m \u001b[0m\u001b[0;31m`\u001b[0m\u001b[0;34m>=\u001b[0m\u001b[0;31m`\u001b[0m\u001b[0;34m,\u001b[0m\u001b[0;31m \u001b[0m\u001b[0;31m`\u001b[0m\u001b[0;34m>\u001b[0m\u001b[0;31m`\u001b[0m\u001b[0;34m,\u001b[0m\u001b[0;31m \u001b[0m\u001b[0;31m`\u001b[0m\u001b[0;34m<=\u001b[0m\u001b[0;31m`\u001b[0m\u001b[0;34m,\u001b[0m \u001b[0;32mor\u001b[0m\u001b[0;31m \u001b[0m\u001b[0;31m`\u001b[0m\u001b[0;34m<\u001b[0m\u001b[0;31m`\u001b[0m\u001b[0;34m.\u001b[0m\u001b[0;34m\u001b[0m\u001b[0;34m\u001b[0m\u001b[0m\n\u001b[0m\u001b[1;32m    198\u001b[0m \u001b[0;34m\u001b[0m\u001b[0m\n\u001b[1;32m    199\u001b[0m     \u001b[0mParameters\u001b[0m\u001b[0;34m\u001b[0m\u001b[0;34m\u001b[0m\u001b[0m\n",
      "\u001b[0;32m~/anaconda3/envs/pytorch_p36/lib/python3.6/site-packages/pandas/core/ops/array_ops.py\u001b[0m in \u001b[0;36mna_arithmetic_op\u001b[0;34m(left, right, op, str_rep)\u001b[0m\n\u001b[1;32m    147\u001b[0m             \u001b[0;31m#  In this case we do not fall back to the masked op, as that\u001b[0m\u001b[0;34m\u001b[0m\u001b[0;34m\u001b[0m\u001b[0;34m\u001b[0m\u001b[0m\n\u001b[1;32m    148\u001b[0m             \u001b[0;31m#  will handle complex numbers incorrectly, see GH#32047\u001b[0m\u001b[0;34m\u001b[0m\u001b[0;34m\u001b[0m\u001b[0;34m\u001b[0m\u001b[0m\n\u001b[0;32m--> 149\u001b[0;31m             \u001b[0;32mraise\u001b[0m\u001b[0;34m\u001b[0m\u001b[0;34m\u001b[0m\u001b[0m\n\u001b[0m\u001b[1;32m    150\u001b[0m         \u001b[0mresult\u001b[0m \u001b[0;34m=\u001b[0m \u001b[0mmasked_arith_op\u001b[0m\u001b[0;34m(\u001b[0m\u001b[0mleft\u001b[0m\u001b[0;34m,\u001b[0m \u001b[0mright\u001b[0m\u001b[0;34m,\u001b[0m \u001b[0mop\u001b[0m\u001b[0;34m)\u001b[0m\u001b[0;34m\u001b[0m\u001b[0;34m\u001b[0m\u001b[0m\n\u001b[1;32m    151\u001b[0m \u001b[0;34m\u001b[0m\u001b[0m\n",
      "\u001b[0;32m~/anaconda3/envs/pytorch_p36/lib/python3.6/site-packages/pandas/core/computation/expressions.py\u001b[0m in \u001b[0;36mevaluate\u001b[0;34m(op, a, b, use_numexpr)\u001b[0m\n\u001b[1;32m    231\u001b[0m         \u001b[0muse_numexpr\u001b[0m \u001b[0;34m=\u001b[0m \u001b[0muse_numexpr\u001b[0m \u001b[0;32mand\u001b[0m \u001b[0m_bool_arith_check\u001b[0m\u001b[0;34m(\u001b[0m\u001b[0mop_str\u001b[0m\u001b[0;34m,\u001b[0m \u001b[0ma\u001b[0m\u001b[0;34m,\u001b[0m \u001b[0mb\u001b[0m\u001b[0;34m)\u001b[0m\u001b[0;34m\u001b[0m\u001b[0;34m\u001b[0m\u001b[0m\n\u001b[1;32m    232\u001b[0m         \u001b[0;32mif\u001b[0m \u001b[0muse_numexpr\u001b[0m\u001b[0;34m:\u001b[0m\u001b[0;34m\u001b[0m\u001b[0;34m\u001b[0m\u001b[0m\n\u001b[0;32m--> 233\u001b[0;31m             \u001b[0;32mreturn\u001b[0m \u001b[0m_evaluate\u001b[0m\u001b[0;34m(\u001b[0m\u001b[0mop\u001b[0m\u001b[0;34m,\u001b[0m \u001b[0mop_str\u001b[0m\u001b[0;34m,\u001b[0m \u001b[0ma\u001b[0m\u001b[0;34m,\u001b[0m \u001b[0mb\u001b[0m\u001b[0;34m)\u001b[0m  \u001b[0;31m# type: ignore\u001b[0m\u001b[0;34m\u001b[0m\u001b[0;34m\u001b[0m\u001b[0m\n\u001b[0m\u001b[1;32m    234\u001b[0m     \u001b[0;32mreturn\u001b[0m \u001b[0m_evaluate_standard\u001b[0m\u001b[0;34m(\u001b[0m\u001b[0mop\u001b[0m\u001b[0;34m,\u001b[0m \u001b[0mop_str\u001b[0m\u001b[0;34m,\u001b[0m \u001b[0ma\u001b[0m\u001b[0;34m,\u001b[0m \u001b[0mb\u001b[0m\u001b[0;34m)\u001b[0m\u001b[0;34m\u001b[0m\u001b[0;34m\u001b[0m\u001b[0m\n\u001b[1;32m    235\u001b[0m \u001b[0;34m\u001b[0m\u001b[0m\n",
      "\u001b[0;32m~/anaconda3/envs/pytorch_p36/lib/python3.6/site-packages/pandas/core/computation/expressions.py\u001b[0m in \u001b[0;36m_evaluate_numexpr\u001b[0;34m(op, op_str, a, b)\u001b[0m\n\u001b[1;32m     98\u001b[0m     \u001b[0mresult\u001b[0m \u001b[0;34m=\u001b[0m \u001b[0;32mNone\u001b[0m\u001b[0;34m\u001b[0m\u001b[0;34m\u001b[0m\u001b[0m\n\u001b[1;32m     99\u001b[0m \u001b[0;34m\u001b[0m\u001b[0m\n\u001b[0;32m--> 100\u001b[0;31m     \u001b[0;32mif\u001b[0m \u001b[0m_can_use_numexpr\u001b[0m\u001b[0;34m(\u001b[0m\u001b[0mop\u001b[0m\u001b[0;34m,\u001b[0m \u001b[0mop_str\u001b[0m\u001b[0;34m,\u001b[0m \u001b[0ma\u001b[0m\u001b[0;34m,\u001b[0m \u001b[0mb\u001b[0m\u001b[0;34m,\u001b[0m \u001b[0;34m\"evaluate\"\u001b[0m\u001b[0;34m)\u001b[0m\u001b[0;34m:\u001b[0m\u001b[0;34m\u001b[0m\u001b[0;34m\u001b[0m\u001b[0m\n\u001b[0m\u001b[1;32m    101\u001b[0m         \u001b[0mis_reversed\u001b[0m \u001b[0;34m=\u001b[0m \u001b[0mop\u001b[0m\u001b[0;34m.\u001b[0m\u001b[0m__name__\u001b[0m\u001b[0;34m.\u001b[0m\u001b[0mstrip\u001b[0m\u001b[0;34m(\u001b[0m\u001b[0;34m\"_\"\u001b[0m\u001b[0;34m)\u001b[0m\u001b[0;34m.\u001b[0m\u001b[0mstartswith\u001b[0m\u001b[0;34m(\u001b[0m\u001b[0;34m\"r\"\u001b[0m\u001b[0;34m)\u001b[0m\u001b[0;34m\u001b[0m\u001b[0;34m\u001b[0m\u001b[0m\n\u001b[1;32m    102\u001b[0m         \u001b[0;32mif\u001b[0m \u001b[0mis_reversed\u001b[0m\u001b[0;34m:\u001b[0m\u001b[0;34m\u001b[0m\u001b[0;34m\u001b[0m\u001b[0m\n",
      "\u001b[0;32m~/anaconda3/envs/pytorch_p36/lib/python3.6/site-packages/pandas/core/computation/expressions.py\u001b[0m in \u001b[0;36m_can_use_numexpr\u001b[0;34m(op, op_str, a, b, dtype_check)\u001b[0m\n\u001b[1;32m     74\u001b[0m \u001b[0;34m\u001b[0m\u001b[0m\n\u001b[1;32m     75\u001b[0m         \u001b[0;31m# required min elements (otherwise we are adding overhead)\u001b[0m\u001b[0;34m\u001b[0m\u001b[0;34m\u001b[0m\u001b[0;34m\u001b[0m\u001b[0m\n\u001b[0;32m---> 76\u001b[0;31m         \u001b[0;32mif\u001b[0m \u001b[0mnp\u001b[0m\u001b[0;34m.\u001b[0m\u001b[0mprod\u001b[0m\u001b[0;34m(\u001b[0m\u001b[0ma\u001b[0m\u001b[0;34m.\u001b[0m\u001b[0mshape\u001b[0m\u001b[0;34m)\u001b[0m \u001b[0;34m>\u001b[0m \u001b[0m_MIN_ELEMENTS\u001b[0m\u001b[0;34m:\u001b[0m\u001b[0;34m\u001b[0m\u001b[0;34m\u001b[0m\u001b[0m\n\u001b[0m\u001b[1;32m     77\u001b[0m             \u001b[0;31m# check for dtype compatibility\u001b[0m\u001b[0;34m\u001b[0m\u001b[0;34m\u001b[0m\u001b[0;34m\u001b[0m\u001b[0m\n\u001b[1;32m     78\u001b[0m             \u001b[0mdtypes\u001b[0m \u001b[0;34m=\u001b[0m \u001b[0mset\u001b[0m\u001b[0;34m(\u001b[0m\u001b[0;34m)\u001b[0m\u001b[0;34m\u001b[0m\u001b[0;34m\u001b[0m\u001b[0m\n",
      "\u001b[0;31mAttributeError\u001b[0m: 'str' object has no attribute 'shape'"
     ]
    }
   ],
   "source": [
    "optknock1 = cameo.strain_design.OptKnock(model1,fraction_of_optimum=0.1)\n",
    "result = optknock1.run(max_knockouts = 1, target=\"'rxn00543_c0\", biomass=\"cpd11416_c0\")\n",
    "#result.plot()\n",
    "display(result.data_frame)"
   ]
  },
  {
   "cell_type": "code",
   "execution_count": null,
   "metadata": {},
   "outputs": [],
   "source": [
    "optknock1 = cameo.strain_design.OptKnock(model1,fraction_of_optimum=0.1)\n",
    "result = optknock1.run(max_knockouts = 1, target=\"'rxn00543_c0\", biomass=\"cpd11416_c0\")\n",
    "#result.plot()\n",
    "display(result.data_frame)"
   ]
  },
  {
   "cell_type": "code",
   "execution_count": null,
   "metadata": {},
   "outputs": [],
   "source": [
    "optknock1 = cameo.strain_design.OptKnock(model1,fraction_of_optimum=0.1)\n",
    "result = optknock1.run(max_knockouts = 1, target=\"'rxn00543_c0\", biomass=\"cpd11416_c0\")\n",
    "result.plot()\n",
    "display(result.data_frame)"
   ]
  },
  {
   "cell_type": "code",
   "execution_count": null,
   "metadata": {},
   "outputs": [],
   "source": [
    "#Here, we get the flux through the biomass reaction in Ecoli model a\n",
    "#Anaerobic with no CO2 fixation and glucose uptake rate of 10 mmol/gdw.h \n",
    "print('Anerobic case')\n",
    "from cameo import fba\n",
    "with model1:\n",
    "    model1.reactions.rxn00533_c0 = 0\n",
    "    model_a.reactions.EX_co2_e.lower_bound = 0\n",
    "    model_a.reactions.EX_glc__D_e.lower_bound = -10\n",
    "    model_a.objective = 'BIOMASS_Ec_iAF1260_core_59p81M'\n",
    "    print(\"Oxygen rate: \",fba(model_a).fluxes['EX_o2_e'])\n",
    "    print(\"Carbon Dioxide rate: \",fba(model_a).fluxes['EX_co2_e'])\n",
    "    print(\"Max Ethanol production rate: \",fba(model_a).fluxes['EX_etoh_e'])\n",
    "    print(\"Glucose uptake rate:\", fba(model_a).fluxes['EX_glc__D_e'])\n",
    "    print(\"Growth Rate(Biomass core production rate):\",fba(model_a).fluxes['BIOMASS_Ec_iAF1260_core_59p81M'])\n",
    "print('----------------------------------------------')    \n",
    "print('Aerobic case')    \n",
    "fba_result = fba(model_a)\n",
    "print(fba_result.fluxes['BIOMASS_Ec_iAF1260_core_59p81M'])\n",
    "print(fba_result.fluxes['EX_etoh_e'])\n",
    "print(fba_result.fluxes['EX_o2_e'])\n",
    "print(fba_result.fluxes['EX_co2_e'])\n",
    "print(\"Glucose uptake rate:\", fba(model_a).fluxes['EX_glc__D_e'])"
   ]
  },
  {
   "cell_type": "code",
   "execution_count": null,
   "metadata": {},
   "outputs": [],
   "source": [
    "rxn00543_c0"
   ]
  },
  {
   "cell_type": "code",
   "execution_count": 34,
   "metadata": {},
   "outputs": [
    {
     "data": {
      "text/plain": [
       "0.0"
      ]
     },
     "execution_count": 34,
     "metadata": {},
     "output_type": "execute_result"
    }
   ],
   "source": [
    "#Ethanol\n",
    "fba(model1).fluxes['rxn00543_c0']\n",
    "cpd00363[c0]"
   ]
  },
  {
   "cell_type": "code",
   "execution_count": 37,
   "metadata": {},
   "outputs": [
    {
     "data": {
      "text/plain": [
       "0.025283058474546382"
      ]
     },
     "execution_count": 37,
     "metadata": {},
     "output_type": "execute_result"
    }
   ],
   "source": [
    "#Oxygen reaction\n",
    "fba(model1).fluxes['rxn00533_c0']"
   ]
  },
  {
   "cell_type": "code",
   "execution_count": null,
   "metadata": {},
   "outputs": [],
   "source": [
    "#Omega Fatty Acid\n",
    "rxn16289[c0]\n"
   ]
  },
  {
   "cell_type": "code",
   "execution_count": null,
   "metadata": {},
   "outputs": [],
   "source": [
    "#Arginine\n",
    "rxn00802[d0]\n",
    "cpd00051[d0]"
   ]
  },
  {
   "cell_type": "code",
   "execution_count": null,
   "metadata": {},
   "outputs": [],
   "source": [
    "#Biomass\n",
    "cpd11416[c0]"
   ]
  },
  {
   "cell_type": "code",
   "execution_count": null,
   "metadata": {},
   "outputs": [],
   "source": [
    "#Sucrose\n",
    "cpd00076[m0]\n",
    "rxn09275[v0]"
   ]
  },
  {
   "cell_type": "code",
   "execution_count": null,
   "metadata": {},
   "outputs": [],
   "source": [
    "#Mannose\n",
    "cpd27437[m0]\n",
    "rxn20176[m0]"
   ]
  },
  {
   "cell_type": "code",
   "execution_count": null,
   "metadata": {},
   "outputs": [],
   "source": [
    "#CO2\n",
    "cpd00011[d0]"
   ]
  },
  {
   "cell_type": "markdown",
   "metadata": {},
   "source": [
    "# # # # # # # # # # # # # # # # # # # # # # # # # # # # # # # # # # # # # # # # # # # # # "
   ]
  },
  {
   "cell_type": "code",
   "execution_count": 105,
   "metadata": {},
   "outputs": [
    {
     "name": "stdout",
     "output_type": "stream",
     "text": [
      "CPU times: user 7.97 ms, sys: 3.91 ms, total: 11.9 ms\n",
      "Wall time: 11.7 ms\n"
     ]
    },
    {
     "data": {
      "text/plain": [
       "0.0"
      ]
     },
     "execution_count": 105,
     "metadata": {},
     "output_type": "execute_result"
    }
   ],
   "source": [
    "%time fba_knockout_result = fba(model1)\n",
    "fba_knockout_result[model1.reactions.rxn00543_c0]"
   ]
  },
  {
   "cell_type": "code",
   "execution_count": 107,
   "metadata": {},
   "outputs": [
    {
     "ename": "NameError",
     "evalue": "name 'pfba_result' is not defined",
     "output_type": "error",
     "traceback": [
      "\u001b[0;31m---------------------------------------------------------------------------\u001b[0m",
      "\u001b[0;31mNameError\u001b[0m                                 Traceback (most recent call last)",
      "\u001b[0;32m<timed exec>\u001b[0m in \u001b[0;36m<module>\u001b[0;34m\u001b[0m\n",
      "\u001b[0;31mNameError\u001b[0m: name 'pfba_result' is not defined"
     ]
    },
    {
     "ename": "NameError",
     "evalue": "name 'lmoma_result' is not defined",
     "output_type": "error",
     "traceback": [
      "\u001b[0;31m---------------------------------------------------------------------------\u001b[0m",
      "\u001b[0;31mNameError\u001b[0m                                 Traceback (most recent call last)",
      "\u001b[0;32m<ipython-input-107-2577d7b9180f>\u001b[0m in \u001b[0;36m<module>\u001b[0;34m\u001b[0m\n\u001b[1;32m      1\u001b[0m \u001b[0;32mfrom\u001b[0m \u001b[0mcameo\u001b[0m\u001b[0;34m.\u001b[0m\u001b[0mflux_analysis\u001b[0m\u001b[0;34m.\u001b[0m\u001b[0msimulation\u001b[0m \u001b[0;32mimport\u001b[0m \u001b[0mroom\u001b[0m\u001b[0;34m,\u001b[0m \u001b[0mlmoma\u001b[0m\u001b[0;34m\u001b[0m\u001b[0;34m\u001b[0m\u001b[0m\n\u001b[1;32m      2\u001b[0m \u001b[0mget_ipython\u001b[0m\u001b[0;34m(\u001b[0m\u001b[0;34m)\u001b[0m\u001b[0;34m.\u001b[0m\u001b[0mrun_line_magic\u001b[0m\u001b[0;34m(\u001b[0m\u001b[0;34m'time'\u001b[0m\u001b[0;34m,\u001b[0m \u001b[0;34m'lmoma_result = lmoma(model1, reference=pfba_result.fluxes)'\u001b[0m\u001b[0;34m)\u001b[0m\u001b[0;34m\u001b[0m\u001b[0;34m\u001b[0m\u001b[0m\n\u001b[0;32m----> 3\u001b[0;31m \u001b[0mlmoma_result\u001b[0m\u001b[0;34m[\u001b[0m\u001b[0mmodel1\u001b[0m\u001b[0;34m.\u001b[0m\u001b[0mreactions\u001b[0m\u001b[0;34m.\u001b[0m\u001b[0mrxn00543_c0\u001b[0m\u001b[0;34m]\u001b[0m\u001b[0;34m\u001b[0m\u001b[0;34m\u001b[0m\u001b[0m\n\u001b[0m",
      "\u001b[0;31mNameError\u001b[0m: name 'lmoma_result' is not defined"
     ]
    }
   ],
   "source": [
    "from cameo.flux_analysis.simulation import room, lmoma\n",
    "%time lmoma_result = lmoma(model1, reference=pfba_result.fluxes)\n",
    "lmoma_result[model1.reactions.rxn00543_c0]"
   ]
  },
  {
   "cell_type": "markdown",
   "metadata": {},
   "source": [
    "# # # # # # # # # # # # # # # # # # # # # # # # # # # # # # # # # # # # # # # # # # # # # "
   ]
  },
  {
   "cell_type": "code",
   "execution_count": null,
   "metadata": {},
   "outputs": [],
   "source": [
    "from cameo import fba\n",
    "fba_result = fba(model)\n",
    "fba_result.data_frame.to_html(\"fba_result.html\")\n",
    "#To view all fluxes, copy the url of this window in a new tab and use \"/notebooks/files/fba_result.html\"\n",
    "\n",
    "display(fba_result.data_frame)"
   ]
  },
  {
   "cell_type": "code",
   "execution_count": 78,
   "metadata": {},
   "outputs": [
    {
     "ename": "KeyError",
     "evalue": "0",
     "output_type": "error",
     "traceback": [
      "\u001b[0;31m---------------------------------------------------------------------------\u001b[0m",
      "\u001b[0;31mKeyError\u001b[0m                                  Traceback (most recent call last)",
      "\u001b[0;32m~/anaconda3/envs/pytorch_p36/lib/python3.6/site-packages/matplotlib/units.py\u001b[0m in \u001b[0;36mget_converter\u001b[0;34m(self, x)\u001b[0m\n\u001b[1;32m    154\u001b[0m         \u001b[0;32mtry\u001b[0m\u001b[0;34m:\u001b[0m  \u001b[0;31m# Look up in the cache.\u001b[0m\u001b[0;34m\u001b[0m\u001b[0;34m\u001b[0m\u001b[0m\n\u001b[0;32m--> 155\u001b[0;31m             \u001b[0;32mreturn\u001b[0m \u001b[0mself\u001b[0m\u001b[0;34m[\u001b[0m\u001b[0mtype\u001b[0m\u001b[0;34m(\u001b[0m\u001b[0mx\u001b[0m\u001b[0;34m)\u001b[0m\u001b[0;34m]\u001b[0m\u001b[0;34m\u001b[0m\u001b[0;34m\u001b[0m\u001b[0m\n\u001b[0m\u001b[1;32m    156\u001b[0m         \u001b[0;32mexcept\u001b[0m \u001b[0mKeyError\u001b[0m\u001b[0;34m:\u001b[0m\u001b[0;34m\u001b[0m\u001b[0;34m\u001b[0m\u001b[0m\n",
      "\u001b[0;31mKeyError\u001b[0m: <class 'numpy.ndarray'>",
      "\nDuring handling of the above exception, another exception occurred:\n",
      "\u001b[0;31mKeyError\u001b[0m                                  Traceback (most recent call last)",
      "\u001b[0;32m~/anaconda3/envs/pytorch_p36/lib/python3.6/site-packages/matplotlib/units.py\u001b[0m in \u001b[0;36mget_converter\u001b[0;34m(self, x)\u001b[0m\n\u001b[1;32m    154\u001b[0m         \u001b[0;32mtry\u001b[0m\u001b[0;34m:\u001b[0m  \u001b[0;31m# Look up in the cache.\u001b[0m\u001b[0;34m\u001b[0m\u001b[0;34m\u001b[0m\u001b[0m\n\u001b[0;32m--> 155\u001b[0;31m             \u001b[0;32mreturn\u001b[0m \u001b[0mself\u001b[0m\u001b[0;34m[\u001b[0m\u001b[0mtype\u001b[0m\u001b[0;34m(\u001b[0m\u001b[0mx\u001b[0m\u001b[0;34m)\u001b[0m\u001b[0;34m]\u001b[0m\u001b[0;34m\u001b[0m\u001b[0;34m\u001b[0m\u001b[0m\n\u001b[0m\u001b[1;32m    156\u001b[0m         \u001b[0;32mexcept\u001b[0m \u001b[0mKeyError\u001b[0m\u001b[0;34m:\u001b[0m\u001b[0;34m\u001b[0m\u001b[0;34m\u001b[0m\u001b[0m\n",
      "\u001b[0;31mKeyError\u001b[0m: <class 'cameo.flux_analysis.analysis.PhenotypicPhasePlaneResult'>",
      "\nDuring handling of the above exception, another exception occurred:\n",
      "\u001b[0;31mKeyError\u001b[0m                                  Traceback (most recent call last)",
      "\u001b[0;32m~/anaconda3/envs/pytorch_p36/lib/python3.6/site-packages/pandas/core/indexes/base.py\u001b[0m in \u001b[0;36mget_loc\u001b[0;34m(self, key, method, tolerance)\u001b[0m\n\u001b[1;32m   2645\u001b[0m \u001b[0;34m\u001b[0m\u001b[0m\n\u001b[0;32m-> 2646\u001b[0;31m         \u001b[0mExamples\u001b[0m\u001b[0;34m\u001b[0m\u001b[0;34m\u001b[0m\u001b[0m\n\u001b[0m\u001b[1;32m   2647\u001b[0m         \u001b[0;34m-\u001b[0m\u001b[0;34m-\u001b[0m\u001b[0;34m-\u001b[0m\u001b[0;34m-\u001b[0m\u001b[0;34m-\u001b[0m\u001b[0;34m-\u001b[0m\u001b[0;34m-\u001b[0m\u001b[0;34m-\u001b[0m\u001b[0;34m\u001b[0m\u001b[0;34m\u001b[0m\u001b[0m\n",
      "\u001b[0;32mpandas/_libs/index.pyx\u001b[0m in \u001b[0;36mpandas._libs.index.IndexEngine.get_loc\u001b[0;34m()\u001b[0m\n",
      "\u001b[0;32mpandas/_libs/index.pyx\u001b[0m in \u001b[0;36mpandas._libs.index.IndexEngine.get_loc\u001b[0;34m()\u001b[0m\n",
      "\u001b[0;32mpandas/_libs/hashtable_class_helper.pxi\u001b[0m in \u001b[0;36mpandas._libs.hashtable.PyObjectHashTable.get_item\u001b[0;34m()\u001b[0m\n",
      "\u001b[0;32mpandas/_libs/hashtable_class_helper.pxi\u001b[0m in \u001b[0;36mpandas._libs.hashtable.PyObjectHashTable.get_item\u001b[0;34m()\u001b[0m\n",
      "\u001b[0;31mKeyError\u001b[0m: 0",
      "\nDuring handling of the above exception, another exception occurred:\n",
      "\u001b[0;31mKeyError\u001b[0m                                  Traceback (most recent call last)",
      "\u001b[0;32m<ipython-input-78-39502780285f>\u001b[0m in \u001b[0;36m<module>\u001b[0;34m\u001b[0m\n\u001b[1;32m      7\u001b[0m result1 = phenotypic_phase_plane(model1,variables=[model1.reactions.rxn29122_m0],\n\u001b[1;32m      8\u001b[0m                                       objective=model1.reactions.rxn00543_c0,points=10)\n\u001b[0;32m----> 9\u001b[0;31m \u001b[0mplt\u001b[0m\u001b[0;34m.\u001b[0m\u001b[0mplot\u001b[0m\u001b[0;34m(\u001b[0m\u001b[0mresult1\u001b[0m\u001b[0;34m)\u001b[0m\u001b[0;34m\u001b[0m\u001b[0;34m\u001b[0m\u001b[0m\n\u001b[0m",
      "\u001b[0;32m~/anaconda3/envs/pytorch_p36/lib/python3.6/site-packages/matplotlib/pyplot.py\u001b[0m in \u001b[0;36mplot\u001b[0;34m(scalex, scaley, data, *args, **kwargs)\u001b[0m\n\u001b[1;32m   2794\u001b[0m     return gca().plot(\n\u001b[1;32m   2795\u001b[0m         *args, scalex=scalex, scaley=scaley, **({\"data\": data} if data\n\u001b[0;32m-> 2796\u001b[0;31m         is not None else {}), **kwargs)\n\u001b[0m\u001b[1;32m   2797\u001b[0m \u001b[0;34m\u001b[0m\u001b[0m\n\u001b[1;32m   2798\u001b[0m \u001b[0;34m\u001b[0m\u001b[0m\n",
      "\u001b[0;32m~/anaconda3/envs/pytorch_p36/lib/python3.6/site-packages/matplotlib/axes/_axes.py\u001b[0m in \u001b[0;36mplot\u001b[0;34m(self, scalex, scaley, data, *args, **kwargs)\u001b[0m\n\u001b[1;32m   1663\u001b[0m         \"\"\"\n\u001b[1;32m   1664\u001b[0m         \u001b[0mkwargs\u001b[0m \u001b[0;34m=\u001b[0m \u001b[0mcbook\u001b[0m\u001b[0;34m.\u001b[0m\u001b[0mnormalize_kwargs\u001b[0m\u001b[0;34m(\u001b[0m\u001b[0mkwargs\u001b[0m\u001b[0;34m,\u001b[0m \u001b[0mmlines\u001b[0m\u001b[0;34m.\u001b[0m\u001b[0mLine2D\u001b[0m\u001b[0;34m.\u001b[0m\u001b[0m_alias_map\u001b[0m\u001b[0;34m)\u001b[0m\u001b[0;34m\u001b[0m\u001b[0;34m\u001b[0m\u001b[0m\n\u001b[0;32m-> 1665\u001b[0;31m         \u001b[0mlines\u001b[0m \u001b[0;34m=\u001b[0m \u001b[0;34m[\u001b[0m\u001b[0;34m*\u001b[0m\u001b[0mself\u001b[0m\u001b[0;34m.\u001b[0m\u001b[0m_get_lines\u001b[0m\u001b[0;34m(\u001b[0m\u001b[0;34m*\u001b[0m\u001b[0margs\u001b[0m\u001b[0;34m,\u001b[0m \u001b[0mdata\u001b[0m\u001b[0;34m=\u001b[0m\u001b[0mdata\u001b[0m\u001b[0;34m,\u001b[0m \u001b[0;34m**\u001b[0m\u001b[0mkwargs\u001b[0m\u001b[0;34m)\u001b[0m\u001b[0;34m]\u001b[0m\u001b[0;34m\u001b[0m\u001b[0;34m\u001b[0m\u001b[0m\n\u001b[0m\u001b[1;32m   1666\u001b[0m         \u001b[0;32mfor\u001b[0m \u001b[0mline\u001b[0m \u001b[0;32min\u001b[0m \u001b[0mlines\u001b[0m\u001b[0;34m:\u001b[0m\u001b[0;34m\u001b[0m\u001b[0;34m\u001b[0m\u001b[0m\n\u001b[1;32m   1667\u001b[0m             \u001b[0mself\u001b[0m\u001b[0;34m.\u001b[0m\u001b[0madd_line\u001b[0m\u001b[0;34m(\u001b[0m\u001b[0mline\u001b[0m\u001b[0;34m)\u001b[0m\u001b[0;34m\u001b[0m\u001b[0;34m\u001b[0m\u001b[0m\n",
      "\u001b[0;32m~/anaconda3/envs/pytorch_p36/lib/python3.6/site-packages/matplotlib/axes/_base.py\u001b[0m in \u001b[0;36m__call__\u001b[0;34m(self, *args, **kwargs)\u001b[0m\n\u001b[1;32m    223\u001b[0m                 \u001b[0mthis\u001b[0m \u001b[0;34m+=\u001b[0m \u001b[0margs\u001b[0m\u001b[0;34m[\u001b[0m\u001b[0;36m0\u001b[0m\u001b[0;34m]\u001b[0m\u001b[0;34m,\u001b[0m\u001b[0;34m\u001b[0m\u001b[0;34m\u001b[0m\u001b[0m\n\u001b[1;32m    224\u001b[0m                 \u001b[0margs\u001b[0m \u001b[0;34m=\u001b[0m \u001b[0margs\u001b[0m\u001b[0;34m[\u001b[0m\u001b[0;36m1\u001b[0m\u001b[0;34m:\u001b[0m\u001b[0;34m]\u001b[0m\u001b[0;34m\u001b[0m\u001b[0;34m\u001b[0m\u001b[0m\n\u001b[0;32m--> 225\u001b[0;31m             \u001b[0;32myield\u001b[0m \u001b[0;32mfrom\u001b[0m \u001b[0mself\u001b[0m\u001b[0;34m.\u001b[0m\u001b[0m_plot_args\u001b[0m\u001b[0;34m(\u001b[0m\u001b[0mthis\u001b[0m\u001b[0;34m,\u001b[0m \u001b[0mkwargs\u001b[0m\u001b[0;34m)\u001b[0m\u001b[0;34m\u001b[0m\u001b[0;34m\u001b[0m\u001b[0m\n\u001b[0m\u001b[1;32m    226\u001b[0m \u001b[0;34m\u001b[0m\u001b[0m\n\u001b[1;32m    227\u001b[0m     \u001b[0;32mdef\u001b[0m \u001b[0mget_next_color\u001b[0m\u001b[0;34m(\u001b[0m\u001b[0mself\u001b[0m\u001b[0;34m)\u001b[0m\u001b[0;34m:\u001b[0m\u001b[0;34m\u001b[0m\u001b[0;34m\u001b[0m\u001b[0m\n",
      "\u001b[0;32m~/anaconda3/envs/pytorch_p36/lib/python3.6/site-packages/matplotlib/axes/_base.py\u001b[0m in \u001b[0;36m_plot_args\u001b[0;34m(self, tup, kwargs)\u001b[0m\n\u001b[1;32m    389\u001b[0m             \u001b[0mx\u001b[0m\u001b[0;34m,\u001b[0m \u001b[0my\u001b[0m \u001b[0;34m=\u001b[0m \u001b[0mindex_of\u001b[0m\u001b[0;34m(\u001b[0m\u001b[0mtup\u001b[0m\u001b[0;34m[\u001b[0m\u001b[0;34m-\u001b[0m\u001b[0;36m1\u001b[0m\u001b[0;34m]\u001b[0m\u001b[0;34m)\u001b[0m\u001b[0;34m\u001b[0m\u001b[0;34m\u001b[0m\u001b[0m\n\u001b[1;32m    390\u001b[0m \u001b[0;34m\u001b[0m\u001b[0m\n\u001b[0;32m--> 391\u001b[0;31m         \u001b[0mx\u001b[0m\u001b[0;34m,\u001b[0m \u001b[0my\u001b[0m \u001b[0;34m=\u001b[0m \u001b[0mself\u001b[0m\u001b[0;34m.\u001b[0m\u001b[0m_xy_from_xy\u001b[0m\u001b[0;34m(\u001b[0m\u001b[0mx\u001b[0m\u001b[0;34m,\u001b[0m \u001b[0my\u001b[0m\u001b[0;34m)\u001b[0m\u001b[0;34m\u001b[0m\u001b[0;34m\u001b[0m\u001b[0m\n\u001b[0m\u001b[1;32m    392\u001b[0m \u001b[0;34m\u001b[0m\u001b[0m\n\u001b[1;32m    393\u001b[0m         \u001b[0;32mif\u001b[0m \u001b[0mself\u001b[0m\u001b[0;34m.\u001b[0m\u001b[0mcommand\u001b[0m \u001b[0;34m==\u001b[0m \u001b[0;34m'plot'\u001b[0m\u001b[0;34m:\u001b[0m\u001b[0;34m\u001b[0m\u001b[0;34m\u001b[0m\u001b[0m\n",
      "\u001b[0;32m~/anaconda3/envs/pytorch_p36/lib/python3.6/site-packages/matplotlib/axes/_base.py\u001b[0m in \u001b[0;36m_xy_from_xy\u001b[0;34m(self, x, y)\u001b[0m\n\u001b[1;32m    242\u001b[0m         \u001b[0;32mif\u001b[0m \u001b[0mself\u001b[0m\u001b[0;34m.\u001b[0m\u001b[0maxes\u001b[0m\u001b[0;34m.\u001b[0m\u001b[0mxaxis\u001b[0m \u001b[0;32mis\u001b[0m \u001b[0;32mnot\u001b[0m \u001b[0;32mNone\u001b[0m \u001b[0;32mand\u001b[0m \u001b[0mself\u001b[0m\u001b[0;34m.\u001b[0m\u001b[0maxes\u001b[0m\u001b[0;34m.\u001b[0m\u001b[0myaxis\u001b[0m \u001b[0;32mis\u001b[0m \u001b[0;32mnot\u001b[0m \u001b[0;32mNone\u001b[0m\u001b[0;34m:\u001b[0m\u001b[0;34m\u001b[0m\u001b[0;34m\u001b[0m\u001b[0m\n\u001b[1;32m    243\u001b[0m             \u001b[0mbx\u001b[0m \u001b[0;34m=\u001b[0m \u001b[0mself\u001b[0m\u001b[0;34m.\u001b[0m\u001b[0maxes\u001b[0m\u001b[0;34m.\u001b[0m\u001b[0mxaxis\u001b[0m\u001b[0;34m.\u001b[0m\u001b[0mupdate_units\u001b[0m\u001b[0;34m(\u001b[0m\u001b[0mx\u001b[0m\u001b[0;34m)\u001b[0m\u001b[0;34m\u001b[0m\u001b[0;34m\u001b[0m\u001b[0m\n\u001b[0;32m--> 244\u001b[0;31m             \u001b[0mby\u001b[0m \u001b[0;34m=\u001b[0m \u001b[0mself\u001b[0m\u001b[0;34m.\u001b[0m\u001b[0maxes\u001b[0m\u001b[0;34m.\u001b[0m\u001b[0myaxis\u001b[0m\u001b[0;34m.\u001b[0m\u001b[0mupdate_units\u001b[0m\u001b[0;34m(\u001b[0m\u001b[0my\u001b[0m\u001b[0;34m)\u001b[0m\u001b[0;34m\u001b[0m\u001b[0;34m\u001b[0m\u001b[0m\n\u001b[0m\u001b[1;32m    245\u001b[0m \u001b[0;34m\u001b[0m\u001b[0m\n\u001b[1;32m    246\u001b[0m             \u001b[0;32mif\u001b[0m \u001b[0mself\u001b[0m\u001b[0;34m.\u001b[0m\u001b[0mcommand\u001b[0m \u001b[0;34m!=\u001b[0m \u001b[0;34m'plot'\u001b[0m\u001b[0;34m:\u001b[0m\u001b[0;34m\u001b[0m\u001b[0;34m\u001b[0m\u001b[0m\n",
      "\u001b[0;32m~/anaconda3/envs/pytorch_p36/lib/python3.6/site-packages/matplotlib/axis.py\u001b[0m in \u001b[0;36mupdate_units\u001b[0;34m(self, data)\u001b[0m\n\u001b[1;32m   1485\u001b[0m         \"\"\"\n\u001b[1;32m   1486\u001b[0m \u001b[0;34m\u001b[0m\u001b[0m\n\u001b[0;32m-> 1487\u001b[0;31m         \u001b[0mconverter\u001b[0m \u001b[0;34m=\u001b[0m \u001b[0mmunits\u001b[0m\u001b[0;34m.\u001b[0m\u001b[0mregistry\u001b[0m\u001b[0;34m.\u001b[0m\u001b[0mget_converter\u001b[0m\u001b[0;34m(\u001b[0m\u001b[0mdata\u001b[0m\u001b[0;34m)\u001b[0m\u001b[0;34m\u001b[0m\u001b[0;34m\u001b[0m\u001b[0m\n\u001b[0m\u001b[1;32m   1488\u001b[0m         \u001b[0;32mif\u001b[0m \u001b[0mconverter\u001b[0m \u001b[0;32mis\u001b[0m \u001b[0;32mNone\u001b[0m\u001b[0;34m:\u001b[0m\u001b[0;34m\u001b[0m\u001b[0;34m\u001b[0m\u001b[0m\n\u001b[1;32m   1489\u001b[0m             \u001b[0;32mreturn\u001b[0m \u001b[0;32mFalse\u001b[0m\u001b[0;34m\u001b[0m\u001b[0;34m\u001b[0m\u001b[0m\n",
      "\u001b[0;32m~/anaconda3/envs/pytorch_p36/lib/python3.6/site-packages/matplotlib/units.py\u001b[0m in \u001b[0;36mget_converter\u001b[0;34m(self, x)\u001b[0m\n\u001b[1;32m    163\u001b[0m                 \u001b[0;31m# where indexing returns instances of the same iterable class.\u001b[0m\u001b[0;34m\u001b[0m\u001b[0;34m\u001b[0m\u001b[0;34m\u001b[0m\u001b[0m\n\u001b[1;32m    164\u001b[0m                 \u001b[0;32mif\u001b[0m \u001b[0mtype\u001b[0m\u001b[0;34m(\u001b[0m\u001b[0mfirst\u001b[0m\u001b[0;34m)\u001b[0m \u001b[0;32mis\u001b[0m \u001b[0;32mnot\u001b[0m \u001b[0mtype\u001b[0m\u001b[0;34m(\u001b[0m\u001b[0mx\u001b[0m\u001b[0;34m)\u001b[0m\u001b[0;34m:\u001b[0m\u001b[0;34m\u001b[0m\u001b[0;34m\u001b[0m\u001b[0m\n\u001b[0;32m--> 165\u001b[0;31m                     \u001b[0;32mreturn\u001b[0m \u001b[0mself\u001b[0m\u001b[0;34m.\u001b[0m\u001b[0mget_converter\u001b[0m\u001b[0;34m(\u001b[0m\u001b[0mfirst\u001b[0m\u001b[0;34m)\u001b[0m\u001b[0;34m\u001b[0m\u001b[0;34m\u001b[0m\u001b[0m\n\u001b[0m\u001b[1;32m    166\u001b[0m         \u001b[0;32mreturn\u001b[0m \u001b[0;32mNone\u001b[0m\u001b[0;34m\u001b[0m\u001b[0;34m\u001b[0m\u001b[0m\n\u001b[1;32m    167\u001b[0m \u001b[0;34m\u001b[0m\u001b[0m\n",
      "\u001b[0;32m~/anaconda3/envs/pytorch_p36/lib/python3.6/site-packages/matplotlib/units.py\u001b[0m in \u001b[0;36mget_converter\u001b[0;34m(self, x)\u001b[0m\n\u001b[1;32m    156\u001b[0m         \u001b[0;32mexcept\u001b[0m \u001b[0mKeyError\u001b[0m\u001b[0;34m:\u001b[0m\u001b[0;34m\u001b[0m\u001b[0;34m\u001b[0m\u001b[0m\n\u001b[1;32m    157\u001b[0m             \u001b[0;32mtry\u001b[0m\u001b[0;34m:\u001b[0m  \u001b[0;31m# If cache lookup fails, look up based on first element...\u001b[0m\u001b[0;34m\u001b[0m\u001b[0;34m\u001b[0m\u001b[0m\n\u001b[0;32m--> 158\u001b[0;31m                 \u001b[0mfirst\u001b[0m \u001b[0;34m=\u001b[0m \u001b[0mcbook\u001b[0m\u001b[0;34m.\u001b[0m\u001b[0msafe_first_element\u001b[0m\u001b[0;34m(\u001b[0m\u001b[0mx\u001b[0m\u001b[0;34m)\u001b[0m\u001b[0;34m\u001b[0m\u001b[0;34m\u001b[0m\u001b[0m\n\u001b[0m\u001b[1;32m    159\u001b[0m             \u001b[0;32mexcept\u001b[0m \u001b[0;34m(\u001b[0m\u001b[0mTypeError\u001b[0m\u001b[0;34m,\u001b[0m \u001b[0mStopIteration\u001b[0m\u001b[0;34m)\u001b[0m\u001b[0;34m:\u001b[0m\u001b[0;34m\u001b[0m\u001b[0;34m\u001b[0m\u001b[0m\n\u001b[1;32m    160\u001b[0m                 \u001b[0;32mpass\u001b[0m\u001b[0;34m\u001b[0m\u001b[0;34m\u001b[0m\u001b[0m\n",
      "\u001b[0;32m~/anaconda3/envs/pytorch_p36/lib/python3.6/site-packages/matplotlib/cbook/__init__.py\u001b[0m in \u001b[0;36msafe_first_element\u001b[0;34m(obj)\u001b[0m\n\u001b[1;32m   1691\u001b[0m         raise RuntimeError(\"matplotlib does not support generators \"\n\u001b[1;32m   1692\u001b[0m                            \"as input\")\n\u001b[0;32m-> 1693\u001b[0;31m     \u001b[0;32mreturn\u001b[0m \u001b[0mnext\u001b[0m\u001b[0;34m(\u001b[0m\u001b[0miter\u001b[0m\u001b[0;34m(\u001b[0m\u001b[0mobj\u001b[0m\u001b[0;34m)\u001b[0m\u001b[0;34m)\u001b[0m\u001b[0;34m\u001b[0m\u001b[0;34m\u001b[0m\u001b[0m\n\u001b[0m\u001b[1;32m   1694\u001b[0m \u001b[0;34m\u001b[0m\u001b[0m\n\u001b[1;32m   1695\u001b[0m \u001b[0;34m\u001b[0m\u001b[0m\n",
      "\u001b[0;32m~/anaconda3/envs/pytorch_p36/lib/python3.6/site-packages/cameo/flux_analysis/analysis.py\u001b[0m in \u001b[0;36m__getitem__\u001b[0;34m(self, item)\u001b[0m\n\u001b[1;32m    854\u001b[0m \u001b[0;34m\u001b[0m\u001b[0m\n\u001b[1;32m    855\u001b[0m     \u001b[0;32mdef\u001b[0m \u001b[0m__getitem__\u001b[0m\u001b[0;34m(\u001b[0m\u001b[0mself\u001b[0m\u001b[0;34m,\u001b[0m \u001b[0mitem\u001b[0m\u001b[0;34m)\u001b[0m\u001b[0;34m:\u001b[0m\u001b[0;34m\u001b[0m\u001b[0;34m\u001b[0m\u001b[0m\n\u001b[0;32m--> 856\u001b[0;31m         \u001b[0;32mreturn\u001b[0m \u001b[0mself\u001b[0m\u001b[0;34m.\u001b[0m\u001b[0m_phase_plane\u001b[0m\u001b[0;34m[\u001b[0m\u001b[0mitem\u001b[0m\u001b[0;34m]\u001b[0m\u001b[0;34m\u001b[0m\u001b[0;34m\u001b[0m\u001b[0m\n\u001b[0m\u001b[1;32m    857\u001b[0m \u001b[0;34m\u001b[0m\u001b[0m\n\u001b[1;32m    858\u001b[0m     \u001b[0;32mdef\u001b[0m \u001b[0miterrows\u001b[0m\u001b[0;34m(\u001b[0m\u001b[0mself\u001b[0m\u001b[0;34m)\u001b[0m\u001b[0;34m:\u001b[0m\u001b[0;34m\u001b[0m\u001b[0;34m\u001b[0m\u001b[0m\n",
      "\u001b[0;32m~/anaconda3/envs/pytorch_p36/lib/python3.6/site-packages/pandas/core/frame.py\u001b[0m in \u001b[0;36m__getitem__\u001b[0;34m(self, key)\u001b[0m\n\u001b[1;32m   2798\u001b[0m \u001b[0;34m\u001b[0m\u001b[0m\n\u001b[1;32m   2799\u001b[0m         \u001b[0;32melse\u001b[0m\u001b[0;34m:\u001b[0m\u001b[0;34m\u001b[0m\u001b[0;34m\u001b[0m\u001b[0m\n\u001b[0;32m-> 2800\u001b[0;31m             \u001b[0mnew_values\u001b[0m \u001b[0;34m=\u001b[0m \u001b[0mself\u001b[0m\u001b[0;34m.\u001b[0m\u001b[0mvalues\u001b[0m\u001b[0;34m.\u001b[0m\u001b[0mT\u001b[0m\u001b[0;34m\u001b[0m\u001b[0;34m\u001b[0m\u001b[0m\n\u001b[0m\u001b[1;32m   2801\u001b[0m             \u001b[0;32mif\u001b[0m \u001b[0mcopy\u001b[0m\u001b[0;34m:\u001b[0m\u001b[0;34m\u001b[0m\u001b[0;34m\u001b[0m\u001b[0m\n\u001b[1;32m   2802\u001b[0m                 \u001b[0mnew_values\u001b[0m \u001b[0;34m=\u001b[0m \u001b[0mnew_values\u001b[0m\u001b[0;34m.\u001b[0m\u001b[0mcopy\u001b[0m\u001b[0;34m(\u001b[0m\u001b[0;34m)\u001b[0m\u001b[0;34m\u001b[0m\u001b[0;34m\u001b[0m\u001b[0m\n",
      "\u001b[0;32m~/anaconda3/envs/pytorch_p36/lib/python3.6/site-packages/pandas/core/indexes/base.py\u001b[0m in \u001b[0;36mget_loc\u001b[0;34m(self, key, method, tolerance)\u001b[0m\n\u001b[1;32m   2646\u001b[0m         \u001b[0mExamples\u001b[0m\u001b[0;34m\u001b[0m\u001b[0;34m\u001b[0m\u001b[0m\n\u001b[1;32m   2647\u001b[0m         \u001b[0;34m-\u001b[0m\u001b[0;34m-\u001b[0m\u001b[0;34m-\u001b[0m\u001b[0;34m-\u001b[0m\u001b[0;34m-\u001b[0m\u001b[0;34m-\u001b[0m\u001b[0;34m-\u001b[0m\u001b[0;34m-\u001b[0m\u001b[0;34m\u001b[0m\u001b[0;34m\u001b[0m\u001b[0m\n\u001b[0;32m-> 2648\u001b[0;31m         \u001b[0;34m>>\u001b[0m\u001b[0;34m>\u001b[0m \u001b[0midx1\u001b[0m \u001b[0;34m=\u001b[0m \u001b[0mpd\u001b[0m\u001b[0;34m.\u001b[0m\u001b[0mIndex\u001b[0m\u001b[0;34m(\u001b[0m\u001b[0;34m[\u001b[0m\u001b[0;36m1\u001b[0m\u001b[0;34m,\u001b[0m \u001b[0;36m2\u001b[0m\u001b[0;34m,\u001b[0m \u001b[0;36m3\u001b[0m\u001b[0;34m,\u001b[0m \u001b[0;36m4\u001b[0m\u001b[0;34m]\u001b[0m\u001b[0;34m)\u001b[0m\u001b[0;34m\u001b[0m\u001b[0;34m\u001b[0m\u001b[0m\n\u001b[0m\u001b[1;32m   2649\u001b[0m         \u001b[0;34m>>\u001b[0m\u001b[0;34m>\u001b[0m \u001b[0midx2\u001b[0m \u001b[0;34m=\u001b[0m \u001b[0mpd\u001b[0m\u001b[0;34m.\u001b[0m\u001b[0mIndex\u001b[0m\u001b[0;34m(\u001b[0m\u001b[0;34m[\u001b[0m\u001b[0;36m3\u001b[0m\u001b[0;34m,\u001b[0m \u001b[0;36m4\u001b[0m\u001b[0;34m,\u001b[0m \u001b[0;36m5\u001b[0m\u001b[0;34m,\u001b[0m \u001b[0;36m6\u001b[0m\u001b[0;34m]\u001b[0m\u001b[0;34m)\u001b[0m\u001b[0;34m\u001b[0m\u001b[0;34m\u001b[0m\u001b[0m\n\u001b[1;32m   2650\u001b[0m         \u001b[0;34m>>\u001b[0m\u001b[0;34m>\u001b[0m \u001b[0midx1\u001b[0m\u001b[0;34m.\u001b[0m\u001b[0mintersection\u001b[0m\u001b[0;34m(\u001b[0m\u001b[0midx2\u001b[0m\u001b[0;34m)\u001b[0m\u001b[0;34m\u001b[0m\u001b[0;34m\u001b[0m\u001b[0m\n",
      "\u001b[0;32mpandas/_libs/index.pyx\u001b[0m in \u001b[0;36mpandas._libs.index.IndexEngine.get_loc\u001b[0;34m()\u001b[0m\n",
      "\u001b[0;32mpandas/_libs/index.pyx\u001b[0m in \u001b[0;36mpandas._libs.index.IndexEngine.get_loc\u001b[0;34m()\u001b[0m\n",
      "\u001b[0;32mpandas/_libs/hashtable_class_helper.pxi\u001b[0m in \u001b[0;36mpandas._libs.hashtable.PyObjectHashTable.get_item\u001b[0;34m()\u001b[0m\n",
      "\u001b[0;32mpandas/_libs/hashtable_class_helper.pxi\u001b[0m in \u001b[0;36mpandas._libs.hashtable.PyObjectHashTable.get_item\u001b[0;34m()\u001b[0m\n",
      "\u001b[0;31mKeyError\u001b[0m: 0"
     ]
    },
    {
     "data": {
      "image/png": "[encoded data removed]",
      "text/plain": [
       "<Figure size 432x288 with 1 Axes>"
      ]
     },
     "metadata": {
      "needs_background": "light"
     },
     "output_type": "display_data"
    }
   ],
   "source": [
    "#Here, I modify the bounds for oxygen and co2. In the model, the lower bounds for oxygen and co2 are set to -1000\n",
    "#This means that the cell can take in co2 and oxygen at any required level. In my opinion, this is an error in the model.\n",
    "#I change the oxygen consumption limit to -20 (experimentally determined value) and co2 consumption to 0.\n",
    "from cameo import phenotypic_phase_plane\n",
    "import matplotlib.pyplot as plt\n",
    "\n",
    "result1 = phenotypic_phase_plane(model1,variables=[model1.reactions.rxn29122_m0],\n",
    "                                      objective=model1.reactions.rxn00543_c0,points=10)\n",
    "plt.plot(result1)"
   ]
  },
  {
   "cell_type": "code",
   "execution_count": 92,
   "metadata": {},
   "outputs": [
    {
     "name": "stdout",
     "output_type": "stream",
     "text": [
      "Max Ethanol production rate:  0.0\n",
      "Sucrose uptake rate: 1000.0\n",
      "diphosphate phosphohydrolase rate: 0.0\n",
      "atty acid omega-hydroxylase rate: 0.0\n"
     ]
    }
   ],
   "source": [
    "with model1:\n",
    "    model1.reactions.rxn09272_m0.lower_bound = -10\n",
    "    model1.reactions.rxn00102_c0.lower_bound = -10\n",
    "    model1.objective = 'rxn00543_c0'\n",
    "    print(\"Max Ethanol production rate: \",fba(model1).fluxes['rxn00543_c0'])\n",
    "    print(\"Sucrose uptake rate:\",fba(model1).fluxes['rxn09275_d0'])\n",
    "    print(\"diphosphate phosphohydrolase rate:\",fba(model1).fluxes['rxn00001_g0'])\n",
    "    print(\"omega-hydroxylase rate:\",fba(model1).fluxes['rxn16289_c0'])\n",
    "\n"
   ]
  },
  {
   "cell_type": "code",
   "execution_count": 93,
   "metadata": {},
   "outputs": [
    {
     "name": "stdout",
     "output_type": "stream",
     "text": [
      "Max Ethanol production rate:  0.0\n",
      "Sucrose uptake rate: 0.0\n",
      "diphosphate phosphohydrolase rate: 0.0\n",
      "atty acid omega-hydroxylase rate: 0.0\n"
     ]
    }
   ],
   "source": [
    "with model2:\n",
    "    model2.reactions.rxn09272_m0.lower_bound = -10\n",
    "    model2.reactions.rxn00102_c0.lower_bound = -10\n",
    "    model2.objective = 'rxn00543_c0'\n",
    "    print(\"Max Ethanol production rate: \",fba(model2).fluxes['rxn00543_c0'])\n",
    "    print(\"Sucrose uptake rate:\",fba(model2).fluxes['rxn09275_d0'])\n",
    "    print(\"diphosphate phosphohydrolase rate:\",fba(model2).fluxes['rxn00001_g0'])\n",
    "    print(\"Fatty acid omega-hydroxylase rate:\",fba(model2).fluxes['rxn16289_c0'])\n",
    "\n"
   ]
  },
  {
   "cell_type": "code",
   "execution_count": 103,
   "metadata": {},
   "outputs": [
    {
     "ename": "KeyError",
     "evalue": "'cpd00214_c0'",
     "output_type": "error",
     "traceback": [
      "\u001b[0;31m---------------------------------------------------------------------------\u001b[0m",
      "\u001b[0;31mTypeError\u001b[0m                                 Traceback (most recent call last)",
      "\u001b[0;32m~/anaconda3/envs/pytorch_p36/lib/python3.6/site-packages/pandas/core/indexes/base.py\u001b[0m in \u001b[0;36mget_value\u001b[0;34m(self, series, key)\u001b[0m\n\u001b[1;32m   4410\u001b[0m \u001b[0;34m\u001b[0m\u001b[0m\n\u001b[0;32m-> 4411\u001b[0;31m         \u001b[0mParameters\u001b[0m\u001b[0;34m\u001b[0m\u001b[0;34m\u001b[0m\u001b[0m\n\u001b[0m\u001b[1;32m   4412\u001b[0m         \u001b[0;34m-\u001b[0m\u001b[0;34m-\u001b[0m\u001b[0;34m-\u001b[0m\u001b[0;34m-\u001b[0m\u001b[0;34m-\u001b[0m\u001b[0;34m-\u001b[0m\u001b[0;34m-\u001b[0m\u001b[0;34m-\u001b[0m\u001b[0;34m-\u001b[0m\u001b[0;34m-\u001b[0m\u001b[0;34m\u001b[0m\u001b[0;34m\u001b[0m\u001b[0m\n",
      "\u001b[0;32mpandas/_libs/index.pyx\u001b[0m in \u001b[0;36mpandas._libs.index.get_value_at\u001b[0;34m()\u001b[0m\n",
      "\u001b[0;32mpandas/_libs/index.pyx\u001b[0m in \u001b[0;36mpandas._libs.index.get_value_at\u001b[0;34m()\u001b[0m\n",
      "\u001b[0;32mpandas/_libs/util.pxd\u001b[0m in \u001b[0;36mpandas._libs.util.get_value_at\u001b[0;34m()\u001b[0m\n",
      "\u001b[0;32mpandas/_libs/util.pxd\u001b[0m in \u001b[0;36mpandas._libs.util.validate_indexer\u001b[0;34m()\u001b[0m\n",
      "\u001b[0;31mTypeError\u001b[0m: 'str' object cannot be interpreted as an integer",
      "\nDuring handling of the above exception, another exception occurred:\n",
      "\u001b[0;31mKeyError\u001b[0m                                  Traceback (most recent call last)",
      "\u001b[0;32m<ipython-input-103-412b615783dd>\u001b[0m in \u001b[0;36m<module>\u001b[0;34m\u001b[0m\n\u001b[1;32m      1\u001b[0m \u001b[0;32mfor\u001b[0m \u001b[0mbio\u001b[0m \u001b[0;32min\u001b[0m \u001b[0mBiomass\u001b[0m\u001b[0;34m:\u001b[0m\u001b[0;34m\u001b[0m\u001b[0;34m\u001b[0m\u001b[0m\n\u001b[0;32m----> 2\u001b[0;31m     \u001b[0mprint\u001b[0m\u001b[0;34m(\u001b[0m\u001b[0mfba\u001b[0m\u001b[0;34m(\u001b[0m\u001b[0mmodel1\u001b[0m\u001b[0;34m)\u001b[0m\u001b[0;34m.\u001b[0m\u001b[0mfluxes\u001b[0m\u001b[0;34m[\u001b[0m\u001b[0mbio\u001b[0m\u001b[0;34m]\u001b[0m\u001b[0;34m)\u001b[0m\u001b[0;34m\u001b[0m\u001b[0;34m\u001b[0m\u001b[0m\n\u001b[0m",
      "\u001b[0;32m~/anaconda3/envs/pytorch_p36/lib/python3.6/site-packages/pandas/core/series.py\u001b[0m in \u001b[0;36m__getitem__\u001b[0;34m(self, key)\u001b[0m\n\u001b[1;32m    869\u001b[0m         \u001b[0mkey\u001b[0m \u001b[0;34m=\u001b[0m \u001b[0mcom\u001b[0m\u001b[0;34m.\u001b[0m\u001b[0mapply_if_callable\u001b[0m\u001b[0;34m(\u001b[0m\u001b[0mkey\u001b[0m\u001b[0;34m,\u001b[0m \u001b[0mself\u001b[0m\u001b[0;34m)\u001b[0m\u001b[0;34m\u001b[0m\u001b[0;34m\u001b[0m\u001b[0m\n\u001b[1;32m    870\u001b[0m \u001b[0;34m\u001b[0m\u001b[0m\n\u001b[0;32m--> 871\u001b[0;31m         \u001b[0;32mif\u001b[0m \u001b[0mkey\u001b[0m \u001b[0;32mis\u001b[0m \u001b[0mEllipsis\u001b[0m\u001b[0;34m:\u001b[0m\u001b[0;34m\u001b[0m\u001b[0;34m\u001b[0m\u001b[0m\n\u001b[0m\u001b[1;32m    872\u001b[0m             \u001b[0;32mreturn\u001b[0m \u001b[0mself\u001b[0m\u001b[0;34m\u001b[0m\u001b[0;34m\u001b[0m\u001b[0m\n\u001b[1;32m    873\u001b[0m \u001b[0;34m\u001b[0m\u001b[0m\n",
      "\u001b[0;32m~/anaconda3/envs/pytorch_p36/lib/python3.6/site-packages/pandas/core/indexes/base.py\u001b[0m in \u001b[0;36mget_value\u001b[0;34m(self, series, key)\u001b[0m\n\u001b[1;32m   4417\u001b[0m         \u001b[0mkey\u001b[0m \u001b[0;34m:\u001b[0m \u001b[0mcallable\u001b[0m\u001b[0;34m,\u001b[0m \u001b[0moptional\u001b[0m\u001b[0;34m\u001b[0m\u001b[0;34m\u001b[0m\u001b[0m\n\u001b[1;32m   4418\u001b[0m             \u001b[0mIf\u001b[0m \u001b[0;32mnot\u001b[0m \u001b[0;32mNone\u001b[0m\u001b[0;34m,\u001b[0m \u001b[0mapply\u001b[0m \u001b[0mthe\u001b[0m \u001b[0mkey\u001b[0m \u001b[0mfunction\u001b[0m \u001b[0mto\u001b[0m \u001b[0mthe\u001b[0m \u001b[0mindex\u001b[0m \u001b[0mvalues\u001b[0m\u001b[0;34m\u001b[0m\u001b[0;34m\u001b[0m\u001b[0m\n\u001b[0;32m-> 4419\u001b[0;31m             \u001b[0mbefore\u001b[0m \u001b[0msorting\u001b[0m\u001b[0;34m.\u001b[0m \u001b[0mThis\u001b[0m \u001b[0;32mis\u001b[0m \u001b[0msimilar\u001b[0m \u001b[0mto\u001b[0m \u001b[0mthe\u001b[0m\u001b[0;31m \u001b[0m\u001b[0;31m`\u001b[0m\u001b[0mkey\u001b[0m\u001b[0;31m`\u001b[0m \u001b[0margument\u001b[0m \u001b[0;32min\u001b[0m \u001b[0mthe\u001b[0m\u001b[0;34m\u001b[0m\u001b[0;34m\u001b[0m\u001b[0m\n\u001b[0m\u001b[1;32m   4420\u001b[0m             \u001b[0mbuiltin\u001b[0m \u001b[0;34m:\u001b[0m\u001b[0mmeth\u001b[0m\u001b[0;34m:\u001b[0m\u001b[0;31m`\u001b[0m\u001b[0msorted\u001b[0m\u001b[0;31m`\u001b[0m \u001b[0mfunction\u001b[0m\u001b[0;34m,\u001b[0m \u001b[0;32mwith\u001b[0m \u001b[0mthe\u001b[0m \u001b[0mnotable\u001b[0m \u001b[0mdifference\u001b[0m \u001b[0mthat\u001b[0m\u001b[0;34m\u001b[0m\u001b[0;34m\u001b[0m\u001b[0m\n\u001b[1;32m   4421\u001b[0m             \u001b[0mthis\u001b[0m\u001b[0;31m \u001b[0m\u001b[0;31m`\u001b[0m\u001b[0mkey\u001b[0m\u001b[0;31m`\u001b[0m \u001b[0mfunction\u001b[0m \u001b[0mshould\u001b[0m \u001b[0mbe\u001b[0m \u001b[0;34m*\u001b[0m\u001b[0mvectorized\u001b[0m\u001b[0;34m*\u001b[0m\u001b[0;34m.\u001b[0m \u001b[0mIt\u001b[0m \u001b[0mshould\u001b[0m \u001b[0mexpect\u001b[0m \u001b[0man\u001b[0m\u001b[0;34m\u001b[0m\u001b[0;34m\u001b[0m\u001b[0m\n",
      "\u001b[0;32m~/anaconda3/envs/pytorch_p36/lib/python3.6/site-packages/pandas/core/indexes/base.py\u001b[0m in \u001b[0;36mget_value\u001b[0;34m(self, series, key)\u001b[0m\n\u001b[1;32m   4403\u001b[0m         \u001b[0mself\u001b[0m\u001b[0;34m,\u001b[0m \u001b[0mreturn_indexer\u001b[0m\u001b[0;34m=\u001b[0m\u001b[0;32mFalse\u001b[0m\u001b[0;34m,\u001b[0m \u001b[0mascending\u001b[0m\u001b[0;34m=\u001b[0m\u001b[0;32mTrue\u001b[0m\u001b[0;34m,\u001b[0m \u001b[0mkey\u001b[0m\u001b[0;34m:\u001b[0m \u001b[0mOptional\u001b[0m\u001b[0;34m[\u001b[0m\u001b[0mCallable\u001b[0m\u001b[0;34m]\u001b[0m \u001b[0;34m=\u001b[0m \u001b[0;32mNone\u001b[0m\u001b[0;34m\u001b[0m\u001b[0;34m\u001b[0m\u001b[0m\n\u001b[1;32m   4404\u001b[0m     ):\n\u001b[0;32m-> 4405\u001b[0;31m         \"\"\"\n\u001b[0m\u001b[1;32m   4406\u001b[0m         \u001b[0mReturn\u001b[0m \u001b[0ma\u001b[0m \u001b[0msorted\u001b[0m \u001b[0mcopy\u001b[0m \u001b[0mof\u001b[0m \u001b[0mthe\u001b[0m \u001b[0mindex\u001b[0m\u001b[0;34m.\u001b[0m\u001b[0;34m\u001b[0m\u001b[0;34m\u001b[0m\u001b[0m\n\u001b[1;32m   4407\u001b[0m \u001b[0;34m\u001b[0m\u001b[0m\n",
      "\u001b[0;32mpandas/_libs/index.pyx\u001b[0m in \u001b[0;36mpandas._libs.index.IndexEngine.get_value\u001b[0;34m()\u001b[0m\n",
      "\u001b[0;32mpandas/_libs/index.pyx\u001b[0m in \u001b[0;36mpandas._libs.index.IndexEngine.get_value\u001b[0;34m()\u001b[0m\n",
      "\u001b[0;32mpandas/_libs/index.pyx\u001b[0m in \u001b[0;36mpandas._libs.index.IndexEngine.get_loc\u001b[0;34m()\u001b[0m\n",
      "\u001b[0;32mpandas/_libs/hashtable_class_helper.pxi\u001b[0m in \u001b[0;36mpandas._libs.hashtable.PyObjectHashTable.get_item\u001b[0;34m()\u001b[0m\n",
      "\u001b[0;32mpandas/_libs/hashtable_class_helper.pxi\u001b[0m in \u001b[0;36mpandas._libs.hashtable.PyObjectHashTable.get_item\u001b[0;34m()\u001b[0m\n",
      "\u001b[0;31mKeyError\u001b[0m: 'cpd00214_c0'"
     ]
    }
   ],
   "source": [
    "for bio in Biomass:\n",
    "    print(fba(model1).fluxes[bio])"
   ]
  },
  {
   "cell_type": "code",
   "execution_count": null,
   "metadata": {},
   "outputs": [],
   "source": [
    "with model2:\n",
    "    model2.reactions.rxn09272_m0.lower_bound = -10\n",
    "    model2.reactions.rxn00102_c0.lower_bound = -10\n",
    "    model2.objective = 'rxn00543_c0'\n",
    "    print(\"Max Ethanol production rate: \",fba(model2).fluxes['rxn00543_c0'])\n",
    "    print(\"Sucrose uptake rate:\",fba(model2).fluxes['rxn09275_d0'])\n",
    "    print(\"diphosphate phosphohydrolase rate:\",fba(model2).fluxes['rxn00001_g0'])\n",
    "    print(\"Fatty acid omega-hydroxylase rate:\",fba(model2).fluxes['rxn16289_c0'])\n",
    "rxn00189[c0]\n"
   ]
  },
  {
   "cell_type": "markdown",
   "metadata": {},
   "source": [
    "# # # # # # # # # # # # # # # # # # # # # # # # # # # # # # # # # # # # # # # # # # # # # "
   ]
  },
  {
   "cell_type": "code",
   "execution_count": null,
   "metadata": {},
   "outputs": [],
   "source": [
    "from cameo import fba\n",
    "from cameo import pfba\n",
    "models = [model1 model2, model3, model4, model5, model6]\n",
    "for model in models:\n",
    "  fbaresult = fba(model)\n",
    "  pfbaresult = pfba(model)\n",
    "  print(\"Sum of FBA Fluxes for\",model,abs(fbaresult.data_frame.flux).sum())\n",
    "  print(\"Sum of pFBA Fluxes for\",model,abs(pfbaresult.data_frame.flux).sum())\n"
   ]
  },
  {
   "cell_type": "code",
   "execution_count": null,
   "metadata": {},
   "outputs": [],
   "source": [
    "from cameo import strain_design\n",
    "optknock = strain_design.OptKnock(model1,fraction_of_optimum=0.1)\n",
    "result = optknock.run(max_knockouts = 3, target=\"EX_lac__D_e\", biomass=\"BIOMASS_Ecoli_core_w_GAM\")\n",
    "result.plot()\n",
    "display(result.data_frame)"
   ]
  },
  {
   "cell_type": "code",
   "execution_count": null,
   "metadata": {},
   "outputs": [],
   "source": [
    "#Single reaction deletion for model a\n",
    "from cobra.flux_analysis import (\n",
    "single_gene_deletion, single_reaction_deletion, double_gene_deletion,\n",
    "double_reaction_deletion)\n",
    "\n",
    "single_reaction_deletion(model_a, model_a.reactions)\n"
   ]
  },
  {
   "cell_type": "code",
   "execution_count": null,
   "metadata": {},
   "outputs": [],
   "source": [
    "from cameo import models\n",
    "model_a = models.bigg.e_coli_core\n",
    "model_b = models.bigg.iJR904\n",
    "model_c = models.bigg.iAF1260\n",
    "model_d = models.bigg.iJO1366\n",
    "model_e = models.bigg.iML1515\n",
    "model_a.reactions.EX_co2_e.lower_bound = 0\n",
    "result = phenotypic_phase_plane(model_a,variables=[model_a.reactions.BIOMASS_Ecoli_core_w_GAM],\n",
    "                                      objective=model_a.reactions.BIOMASS_Ecoli_core_w_GAM,points=10)\n",
    "print(\"WildType\")\n",
    "result.plot()\n",
    "with model:\n",
    "    model.reactions.CYTBD.knock_out()\n",
    "    result = phenotypic_phase_plane(model_a,variables=[model_a.reactions.BIOMASS_Ecoli_core_w_GAM],\n",
    "                                      objective=model_a.reactions.BIOMASS_Ecoli_core_w_GAM,points=10)\n",
    "    print(\"CYTBDMutant\")\n",
    "    result.plot()"
   ]
  },
  {
   "cell_type": "code",
   "execution_count": null,
   "metadata": {},
   "outputs": [],
   "source": [
    "#For model a\n",
    "from cameo import flux_analysis\n",
    "from cameo import phenotypic_phase_plane\n",
    "with model:\n",
    "    ref_flux = fba(model_a).fluxes\n",
    "    model.reactions.EX_o2_e.knock_out()\n",
    "    moma_result = flux_analysis.simulation.lmoma(model_a,reference = ref_flux)\n",
    "    fba_result = fba(model_a)\n",
    "    fba_biomass = fba_result.fluxes['BIOMASS_Ecoli_core_w_GAM']\n",
    "    fba_etoh = fba_result.fluxes['EX_etoh_e']\n",
    "    moma_biomass = moma_result.fluxes['BIOMASS_Ecoli_core_w_GAM']\n",
    "    moma_etoh = moma_result.fluxes['EX_etoh_e']\n",
    "    result = phenotypic_phase_plane\n",
    "    result = phenotypic_phase_plane(model_a,variables=[model_a.reactions.BIOMASS_Ecoli_core_w_GAM],\n",
    "                                      objective=model_a.reactions.EX_etoh_e,points=10)\n",
    "    result.plot(points=[(fba_biomass,fba_etoh), (moma_biomass,moma_etoh)], points_colors=[\"green\", \"red\"])\n",
    "    print(\"Growth rate predicted by FBA for an anaerobic strain: \", fba_biomass)\n",
    "    print(\"Ethanol flux predicted by FBA for an anaerobic strain: \", fba_etoh)\n",
    "    print(\"Growth rate predicted by MOMA for an anaerobic strain: \", moma_biomass)\n",
    "    print(\"Ethanol flux predicted by MOMA for an anaerobic strainP \", moma_etoh)"
   ]
  },
  {
   "cell_type": "markdown",
   "metadata": {},
   "source": [
    "# # # # # # # # # # # # # # # # # # # # # # # # # # # # # # # # # # # # # # # # # # # # # "
   ]
  },
  {
   "cell_type": "markdown",
   "metadata": {},
   "source": [
    "# # # # # # # # # # # # # # # # # # # # # # # # # # # # # # # # # # # # # # # # # # # # # "
   ]
  },
  {
   "cell_type": "code",
   "execution_count": null,
   "metadata": {},
   "outputs": [],
   "source": [
    "optknock_acetate_export = cameo.strain_design.OptKnock(model,fraction_of_optimum=0.1)\n",
    "result = optknock_acetate_export.run(max_knockouts = 7, target=[\"EX_ac_e\",\"ACt2r\"], biomass=\"BIOMASS_Ecoli_core_w_GAM\")\n",
    "result.plot()\n",
    "display(result.data_frame)"
   ]
  },
  {
   "cell_type": "code",
   "execution_count": null,
   "metadata": {},
   "outputs": [],
   "source": [
    "pfbaresult.data_frame"
   ]
  },
  {
   "cell_type": "code",
   "execution_count": null,
   "metadata": {},
   "outputs": [],
   "source": [
    "#Phenotypic phase plane that compares the wild-type to the mutant strain for acetate.\n",
    "model = cameo.models.bigg.e_coli_core\n",
    "model.reactions.EX_co2_e.lower_bound = 0\n",
    "result = cameo.phenotypic_phase_plane(model,variables=[model.reactions.BIOMASS_Ecoli_core_w_GAM],\n",
    "                                      objective=model.reactions.EX_etoh_e,points=10)\n",
    "print(\"WildType\")\n",
    "result.plot()\n",
    "with model:\n",
    "    model.reactions.ATPS4r.knock_out()\n",
    "    result = cameo.phenotypic_phase_plane(model,variables=[model.reactions.BIOMASS_Ecoli_core_w_GAM],\n",
    "                                      objective=model.reactions.EX_etoh_e,points=10)\n",
    "    print(\"ATPS4rMutant\")\n",
    "    result.plot()"
   ]
  },
  {
   "cell_type": "code",
   "execution_count": null,
   "metadata": {},
   "outputs": [],
   "source": [
    "#Simulating a deletion for THD2 using MOMA\n",
    "with model:\n",
    "    ref_flux = cameo.fba(model).fluxes\n",
    "    model.reactions.THD2.knock_out()\n",
    "    moma_result = cameo.flux_analysis.simulation.lmoma(model,reference = ref_flux)\n",
    "    fba_result = cameo.fba(model)\n",
    "    fba_biomass = fba_result.fluxes['BIOMASS_Ecoli_core_w_GAM']\n",
    "    fba_etoh = fba_result.fluxes['EX_etoh_e']\n",
    "    moma_biomass = moma_result.fluxes['BIOMASS_Ecoli_core_w_GAM']\n",
    "    moma_etoh = moma_result.fluxes['EX_etoh_e']\n",
    "    result = cameo.phenotypic_phase_plane\n",
    "    result = cameo.phenotypic_phase_plane(model,variables=[model.reactions.BIOMASS_Ecoli_core_w_GAM],\n",
    "                                      objective=model.reactions.EX_etoh_e,points=10)\n",
    "    result.plot(points=[(fba_biomass,fba_etoh), (moma_biomass,moma_etoh)], points_colors=[\"green\", \"red\"])\n",
    "    print(\"Growth rate predicted by FBA for an anaerobic strain: \", fba_biomass)\n",
    "    print(\"Ethanol flux predicted by FBA for an anaerobic strain: \", fba_etoh)\n",
    "    print(\"Growth rate predicted by MOMA for an anaerobic strain: \", moma_biomass)\n",
    "    print(\"Ethanol flux predicted by MOMA for an anaerobic strainP \", moma_etoh)   \n"
   ]
  }
 ],
 "metadata": {
  "kernelspec": {
   "display_name": "conda_pytorch_p36",
   "language": "python",
   "name": "conda_pytorch_p36"
  },
  "language_info": {
   "codemirror_mode": {
    "name": "ipython",
    "version": 3
   },
   "file_extension": ".py",
   "mimetype": "text/x-python",
   "name": "python",
   "nbconvert_exporter": "python",
   "pygments_lexer": "ipython3",
   "version": "3.6.10"
  }
 },
 "nbformat": 4,
 "nbformat_minor": 4
}
